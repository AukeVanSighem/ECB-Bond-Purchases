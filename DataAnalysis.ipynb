{
 "cells": [
  {
   "cell_type": "code",
   "execution_count": 24,
   "metadata": {
    "ExecuteTime": {
     "end_time": "2021-04-26T09:31:42.407200Z",
     "start_time": "2021-04-26T09:31:34.319027Z"
    }
   },
   "outputs": [
    {
     "name": "stdout",
     "output_type": "stream",
     "text": [
      "Requirement already satisfied: OpenPermID in c:\\users\\auke\\anaconda3\\lib\\site-packages (0.5)\n",
      "Requirement already satisfied: requests in c:\\users\\auke\\anaconda3\\lib\\site-packages (from OpenPermID) (2.24.0)\n",
      "Requirement already satisfied: pandas in c:\\users\\auke\\anaconda3\\lib\\site-packages (from OpenPermID) (1.1.3)\n",
      "Requirement already satisfied: urllib3!=1.25.0,!=1.25.1,<1.26,>=1.21.1 in c:\\users\\auke\\anaconda3\\lib\\site-packages (from requests->OpenPermID) (1.25.11)\n",
      "Requirement already satisfied: certifi>=2017.4.17 in c:\\users\\auke\\anaconda3\\lib\\site-packages (from requests->OpenPermID) (2020.6.20)\n",
      "Requirement already satisfied: idna<3,>=2.5 in c:\\users\\auke\\anaconda3\\lib\\site-packages (from requests->OpenPermID) (2.10)\n",
      "Requirement already satisfied: chardet<4,>=3.0.2 in c:\\users\\auke\\anaconda3\\lib\\site-packages (from requests->OpenPermID) (3.0.4)\n",
      "Requirement already satisfied: numpy>=1.15.4 in c:\\users\\auke\\anaconda3\\lib\\site-packages (from pandas->OpenPermID) (1.19.2)\n",
      "Requirement already satisfied: python-dateutil>=2.7.3 in c:\\users\\auke\\anaconda3\\lib\\site-packages (from pandas->OpenPermID) (2.8.1)\n",
      "Requirement already satisfied: pytz>=2017.2 in c:\\users\\auke\\anaconda3\\lib\\site-packages (from pandas->OpenPermID) (2020.1)\n",
      "Requirement already satisfied: six>=1.5 in c:\\users\\auke\\anaconda3\\lib\\site-packages (from python-dateutil>=2.7.3->pandas->OpenPermID) (1.15.0)\n",
      "Requirement already satisfied: Levenshtein in c:\\users\\auke\\anaconda3\\lib\\site-packages (0.12.0)\n",
      "Requirement already satisfied: setuptools in c:\\users\\auke\\anaconda3\\lib\\site-packages (from Levenshtein) (50.3.1.post20201107)\n",
      "Requirement already satisfied: geocoder in c:\\users\\auke\\anaconda3\\lib\\site-packages (1.38.1)\n",
      "Requirement already satisfied: click in c:\\users\\auke\\anaconda3\\lib\\site-packages (from geocoder) (7.1.2)\n",
      "Requirement already satisfied: ratelim in c:\\users\\auke\\anaconda3\\lib\\site-packages (from geocoder) (0.1.6)\n",
      "Requirement already satisfied: future in c:\\users\\auke\\anaconda3\\lib\\site-packages (from geocoder) (0.18.2)\n",
      "Requirement already satisfied: six in c:\\users\\auke\\anaconda3\\lib\\site-packages (from geocoder) (1.15.0)\n",
      "Requirement already satisfied: requests in c:\\users\\auke\\anaconda3\\lib\\site-packages (from geocoder) (2.24.0)\n",
      "Requirement already satisfied: decorator in c:\\users\\auke\\anaconda3\\lib\\site-packages (from ratelim->geocoder) (4.4.2)\n",
      "Requirement already satisfied: chardet<4,>=3.0.2 in c:\\users\\auke\\anaconda3\\lib\\site-packages (from requests->geocoder) (3.0.4)\n",
      "Requirement already satisfied: idna<3,>=2.5 in c:\\users\\auke\\anaconda3\\lib\\site-packages (from requests->geocoder) (2.10)\n",
      "Requirement already satisfied: urllib3!=1.25.0,!=1.25.1,<1.26,>=1.21.1 in c:\\users\\auke\\anaconda3\\lib\\site-packages (from requests->geocoder) (1.25.11)\n",
      "Requirement already satisfied: certifi>=2017.4.17 in c:\\users\\auke\\anaconda3\\lib\\site-packages (from requests->geocoder) (2020.6.20)\n"
     ]
    }
   ],
   "source": [
    "# List of modules that are not installed in the course\n",
    "!pip install OpenPermID\n",
    "!pip install Levenshtein\n",
    "!pip install geocoder"
   ]
  },
  {
   "cell_type": "code",
   "execution_count": 25,
   "metadata": {
    "ExecuteTime": {
     "end_time": "2021-04-26T09:31:42.484637Z",
     "start_time": "2021-04-26T09:31:42.471480Z"
    }
   },
   "outputs": [],
   "source": [
    "import pandas as pd\n",
    "import numpy as np\n",
    "import re"
   ]
  },
  {
   "cell_type": "markdown",
   "metadata": {},
   "source": [
    "# Downloading all bonds ever owned in CSPP"
   ]
  },
  {
   "cell_type": "code",
   "execution_count": 26,
   "metadata": {
    "ExecuteTime": {
     "end_time": "2021-04-26T09:31:43.872872Z",
     "start_time": "2021-04-26T09:31:43.869888Z"
    }
   },
   "outputs": [],
   "source": [
    "import requests, datetime"
   ]
  },
  {
   "cell_type": "code",
   "execution_count": 27,
   "metadata": {
    "ExecuteTime": {
     "end_time": "2021-04-26T09:31:45.510981Z",
     "start_time": "2021-04-26T09:31:45.491081Z"
    }
   },
   "outputs": [],
   "source": [
    "# This function gets the csv from the url and places the new data in a dictionary with keys = ISIN,\n",
    "# and value = [NCB, ISSUER, MATURITY DATE, COUPON RATE]\n",
    "def downloadDataToDictionary(url,dictionary):\n",
    "    r = requests.get(url) # create HTTP response object\n",
    "    nameCompany = '' # make a string for the company name \n",
    "                     # (do this here so that is in scope of whole function)\n",
    "    if r.status_code != 200: return # if website wasn't accessed in the right way, \n",
    "                                    # stop the function\n",
    "    # this for loop loops through all the lines of the retrieved csv-file, except for the heading\n",
    "    for line in r.text.split('\\r\\n')[1:]:\n",
    "        if not re.search(r'[a-z]',line): continue # if the line doesn't contain letters, \n",
    "                                                  # go to the next line\n",
    "        if re.search(r',+$',line): line = re.sub(r',+$',r'',line) # remove commas at end of line\n",
    "        splitLine = line.split(',')\n",
    "        if len(splitLine) < 5: continue # We expect at least 5 items as we want 5 columns \n",
    "                                        # and name could lead to additional columns\n",
    "        if re.search(r'(?:\\\".*,.*\\\")',line): # searches commas between \" as these are part of the name \n",
    "                                             # and shouldn't be split\n",
    "            nameCompany = re.search(r'(?:\\\".*,.*\\\")',line).group(0) \n",
    "                                             # name of the company is between the \"\"\n",
    "            nameCompany = re.sub(r\"\\\"\",\"\",nameCompany) # remove the \"\"\n",
    "        else:\n",
    "            for str in splitLine:\n",
    "                re.sub('\\\"','',str)\n",
    "            nameCompany = splitLine[2]\n",
    "        if (splitLine[1] not in dictionary): # only add new ISINs to the dictionary\n",
    "            dictionary[splitLine[1]] = [splitLine[0], nameCompany, splitLine[-2], splitLine[-1]]"
   ]
  },
  {
   "cell_type": "code",
   "execution_count": 28,
   "metadata": {
    "ExecuteTime": {
     "end_time": "2021-04-26T09:32:24.028359Z",
     "start_time": "2021-04-26T09:31:48.707580Z"
    }
   },
   "outputs": [],
   "source": [
    "dateToDownload = datetime.date(2017, 6, 23)\n",
    "change_url_date = datetime.date(2020, 3, 27)\n",
    "end_date = datetime.date.today()\n",
    "delta = datetime.timedelta(days=7)\n",
    "dictionaryBondsECB = {}\n",
    "\n",
    "while dateToDownload <= change_url_date:\n",
    "    date = dateToDownload.strftime(\"%Y%m%d\")\n",
    "    url = \"https://www.ecb.europa.eu/mopo/pdf/CSPPholdings_\"+date+\".csv\"\n",
    "    downloadDataToDictionary(url,dictionaryBondsECB)\n",
    "    dateToDownload += delta\n",
    "dateToDownload+delta\n",
    "while dateToDownload <= end_date:\n",
    "    date = dateToDownload.strftime(\"%Y%m%d\")\n",
    "    url = \"https://www.ecb.europa.eu/mopo/pdf/CSPP_PEPP_corporate_bond_holdings_\"+date+\".csv\"\n",
    "    downloadDataToDictionary(url,dictionaryBondsECB)\n",
    "    dateToDownload += delta"
   ]
  },
  {
   "cell_type": "code",
   "execution_count": 29,
   "metadata": {
    "ExecuteTime": {
     "end_time": "2021-04-26T09:32:24.106336Z",
     "start_time": "2021-04-26T09:32:24.092425Z"
    }
   },
   "outputs": [],
   "source": [
    "matrixData = [] # 2D array with row per ISIN and columns for different data\n",
    "for ISIN, dataInDictionary in dictionaryBondsECB.items():\n",
    "    item = [ISIN] + dataInDictionary\n",
    "    matrixData.append(item)\n",
    "holdingsECB = pd.DataFrame(matrixData, columns=[\"ISIN\",\"NCB\",\"ISSUER\",\"MATURITY DATE\",\"COUPON RATE\"])"
   ]
  },
  {
   "cell_type": "markdown",
   "metadata": {},
   "source": [
    "# ECB green bonds that are listed on Euronext stock exchange "
   ]
  },
  {
   "cell_type": "code",
   "execution_count": null,
   "metadata": {},
   "outputs": [],
   "source": [
    "#reading data of green bonds listed on Euronext \n",
    "euronext_greenbonds = pd.read_excel(\"data/Euronext-Green-Bond-List.xlsx\", header=0)\n",
    "euronext_greenbonds"
   ]
  },
  {
   "cell_type": "code",
   "execution_count": null,
   "metadata": {
    "scrolled": true
   },
   "outputs": [],
   "source": [
    "#Getting the ISIN of the Euronext green bonds \n",
    "euronext_greenbond_isin = euronext_greenbonds[\"ISIN\"]\n",
    "euronext_greenbond_isin"
   ]
  },
  {
   "cell_type": "code",
   "execution_count": null,
   "metadata": {},
   "outputs": [],
   "source": [
    "#Comparing the ISINs of the ECB and Euronext green bonds and returning matches \n",
    "ecbgreenbonds = holdingsECB[(holdingsECB[\"ISIN\"].isin(euronext_greenbond_isin))]\n",
    "ecbgreenbonds"
   ]
  },
  {
   "cell_type": "markdown",
   "metadata": {},
   "source": [
    "# Which bonds are green?"
   ]
  },
  {
   "cell_type": "code",
   "execution_count": null,
   "metadata": {
    "ExecuteTime": {
     "end_time": "2021-04-11T13:46:56.431566Z",
     "start_time": "2021-04-11T13:46:56.404371Z"
    }
   },
   "outputs": [],
   "source": [
    "# reading data of which bonds are held by ECB at 2nd of april 2021\n",
    "holdings20210402 = pd.read_csv(\"data/CSPP_PEPP_corporate_bond_holdings_20210402.csv\", header=0, encoding='latin-1')\n",
    "holdings20210402"
   ]
  },
  {
   "cell_type": "code",
   "execution_count": null,
   "metadata": {
    "ExecuteTime": {
     "end_time": "2021-04-11T13:46:56.461915Z",
     "start_time": "2021-04-11T13:46:56.432565Z"
    }
   },
   "outputs": [],
   "source": [
    "# reading data of all green bonds in the world (ICMA - 06 april 2021)\n",
    "greenBonds = pd.read_csv(\"data/ICMA-Sustainable-Bonds-Database-060421.csv\", delimiter=\";\", encoding=\"latin-1\")\n",
    "greenBonds"
   ]
  },
  {
   "cell_type": "code",
   "execution_count": null,
   "metadata": {
    "ExecuteTime": {
     "end_time": "2021-04-11T13:47:14.732545Z",
     "start_time": "2021-04-11T13:46:56.462912Z"
    }
   },
   "outputs": [],
   "source": [
    "# generate lists of all companies that have green bonds owned by ECB and all companies that have non-green bonds owned by ECB\n",
    "companiesECBSet = set(holdings20210402[\"ISSUER\"].tolist()) # set of companies with bonds owned by ECB\n",
    "greenBondsCompaniesSet = set(greenBonds[\"Green Bond issuer\"].tolist()) # set of companies with green bonds\n",
    "greenCompanies = [] # this list will hold all companies with green bonds owned by ECB\n",
    "for company in companiesECBSet:\n",
    "    for greenBondCompany in greenBondsCompaniesSet:\n",
    "        # Here, regex are used because names don't exactly match\n",
    "        if (re.search(\".*\"+greenBondCompany+\".*\", company) or re.search(\".*\"+company+\".*\",greenBondCompany)):\n",
    "            greenCompanies.append(company)"
   ]
  },
  {
   "cell_type": "markdown",
   "metadata": {},
   "source": [
    "# Using OpenFIGI to convert bond ISIN to ticker\n",
    "FIGIs are unique identifiers of financial instruments issued by Bloomberg. OpenFIGI is an API that maps third-party identifiers to FIGI, but it also returns other information such as company name and ticker."
   ]
  },
  {
   "cell_type": "code",
   "execution_count": null,
   "metadata": {
    "ExecuteTime": {
     "end_time": "2021-04-14T14:36:09.642571Z",
     "start_time": "2021-04-14T14:36:09.611570Z"
    }
   },
   "outputs": [],
   "source": [
    "# Import Packages\n",
    "import json\n",
    "import urllib.request\n",
    "import urllib.parse"
   ]
  },
  {
   "cell_type": "code",
   "execution_count": null,
   "metadata": {
    "ExecuteTime": {
     "end_time": "2021-04-14T14:40:32.821846Z",
     "start_time": "2021-04-14T14:40:32.807845Z"
    }
   },
   "outputs": [],
   "source": [
    "# Load Functions\n",
    "def map_jobs(jobs):\n",
    "    handler = urllib.request.HTTPHandler()\n",
    "    opener = urllib.request.build_opener(handler)\n",
    "    openfigi_url = 'https://api.openfigi.com/v3/mapping'\n",
    "    request = urllib.request.Request(openfigi_url, data=bytes(json.dumps(jobs), encoding='utf-8'))\n",
    "    request.add_header('Content-Type','application/json')\n",
    "    if openfigi_apikey:\n",
    "        request.add_header('X-OPENFIGI-APIKEY', openfigi_apikey)\n",
    "    request.get_method = lambda: 'POST'\n",
    "    connection = opener.open(request)\n",
    "    if connection.code != 200:\n",
    "        raise Exception('Bad response code {}'.format(str(response.status_code)))\n",
    "    return json.loads(connection.read().decode('utf-8'))\n",
    "\n",
    "def job_results_handler(jobs, job_results):\n",
    "    df = pd.DataFrame({})\n",
    "    for job, result in zip(jobs, job_results):\n",
    "        job_df = pd.DataFrame({'ISIN': [job['idValue']]})\n",
    "        results_df = pd.read_json(json.dumps(result.get('data', [])))\n",
    "        df = pd.concat([df, pd.concat([job_df, results_df], axis = 1)])\n",
    "    return df"
   ]
  },
  {
   "cell_type": "code",
   "execution_count": null,
   "metadata": {
    "ExecuteTime": {
     "end_time": "2021-04-14T14:42:25.757840Z",
     "start_time": "2021-04-14T14:42:01.807644Z"
    }
   },
   "outputs": [],
   "source": [
    "# Convert raw data to appropriate input format\n",
    "ISIN_FIGI = pd.concat([pd.Series(np.tile('ID_ISIN', 1642)), holdings20210402.ISIN], axis = 1)\n",
    "ISIN_FIGI = ISIN_FIGI.rename(columns = {0: 'idType', 'ISIN': 'idValue'})\n",
    "\n",
    "# Map to FIGI\n",
    "openfigi_apikey = 'c89ac66d-e0d2-416f-9c5e-0ed7ec59c770' # This is my personal key (Fred)\n",
    "jobs_per_access = 100\n",
    "no_of_access = len(ISIN_FIGI)//jobs_per_access + 1\n",
    "\n",
    "figi = pd.DataFrame({})\n",
    "for i in range(no_of_access):\n",
    "    lower_bound = jobs_per_access * i\n",
    "    upper_bound = jobs_per_access * (i + 1) if i < no_of_access - 1 else max(ISIN_FIGI.index) + 1\n",
    "    job = ISIN_FIGI.iloc[lower_bound:upper_bound].to_dict(orient = 'records')\n",
    "    job_results = map_jobs(job)\n",
    "    figi = figi.append(job_results_handler(job, job_results))\n",
    "    \n",
    "# Extracting the pure ticker\n",
    "figi.ticker = figi.ticker.apply(lambda x: x.split()[0])\n",
    "figi.head()"
   ]
  },
  {
   "cell_type": "markdown",
   "metadata": {},
   "source": [
    "# Percentage of companies supported by ECB with green ESG scores"
   ]
  },
  {
   "cell_type": "markdown",
   "metadata": {},
   "source": [
    "Next 4 blocks calculate the score of a given ticker with the function 'web_scraper(ticker)' as shown by the example for Microsoft Corporation (MSFT).\n",
    "TODO: Find the ticker belonging to each company and iterate over them to see if the ESG score or the Environment Score indicate that the given company is green."
   ]
  },
  {
   "cell_type": "code",
   "execution_count": null,
   "metadata": {
    "ExecuteTime": {
     "end_time": "2021-04-11T13:48:59.100480Z",
     "start_time": "2021-04-11T13:48:59.093563Z"
    }
   },
   "outputs": [],
   "source": [
    "# Source used: https://curt-beck1254.medium.com/scrapping-financial-esg-data-with-python-99d171a12c51\n",
    "from bs4 import BeautifulSoup\n",
    "# import pandas as pd\n",
    "import requests"
   ]
  },
  {
   "cell_type": "code",
   "execution_count": null,
   "metadata": {
    "ExecuteTime": {
     "end_time": "2021-04-14T14:50:53.658196Z",
     "start_time": "2021-04-14T14:50:53.638685Z"
    }
   },
   "outputs": [],
   "source": [
    "def web_scraper(ticker):\n",
    "    elements = []\n",
    "    web_data = requests.get('https://finance.yahoo.com/quote/'+ticker+'/sustainability?p='+ticker).text\n",
    "    soup = BeautifulSoup(web_data, 'html.parser')\n",
    "    esg_score = soup.find('div', {'class':'Fz(36px) Fw(600) D(ib) Mend(5px)'})\n",
    "    datapoint = esg_score.text if esg_score != None else np.NaN\n",
    "    controversy_score = soup.find('div', {'class': 'D(ib) Fz(23px) smartphone_Fz(22px) Fw(600)'})\n",
    "    controversy_datapoint = controversy_score.text if controversy_score != None else np.NaN\n",
    "    scores = soup.find_all('div', {'class': 'D(ib) Fz(23px) smartphone_Fz(22px) Fw(600)'})\n",
    "    if len(scores) == 0:\n",
    "        elements = [np.NaN, np.NaN, np.NaN]\n",
    "    else:\n",
    "        for score in scores:\n",
    "            elements.append(score.text)\n",
    "        \n",
    "    df = pd.DataFrame({'Total ESG Score': datapoint,\n",
    "                      'Environment Score': elements[0],\n",
    "                       'Social Score': elements[1],\n",
    "                      'Governance Score': elements[2],\n",
    "                      'Controversy Score': controversy_datapoint},\n",
    "                     index=[ticker])\n",
    "    df = df.astype('float')\n",
    "    df['Controversy Assessment'] = df.apply(lambda x: level(x['Controversy Score']), axis=1)\n",
    "    return df"
   ]
  },
  {
   "cell_type": "code",
   "execution_count": null,
   "metadata": {
    "ExecuteTime": {
     "end_time": "2021-04-11T13:49:48.507787Z",
     "start_time": "2021-04-11T13:49:48.504101Z"
    }
   },
   "outputs": [],
   "source": [
    "def level(x):\n",
    "    if x == 0.0:\n",
    "        return 'No Controversy'\n",
    "    if x == 1.0:\n",
    "        return 'Little Controverssy'\n",
    "    if x == 2.0:\n",
    "        return 'Moderate Controversy'\n",
    "    if x == 3.0:\n",
    "        return 'Relatively High Controversy'\n",
    "    else:\n",
    "        return 'Severe Controversy'"
   ]
  },
  {
   "cell_type": "code",
   "execution_count": null,
   "metadata": {
    "ExecuteTime": {
     "end_time": "2021-04-14T14:49:59.425493Z",
     "start_time": "2021-04-14T14:49:58.898943Z"
    }
   },
   "outputs": [],
   "source": [
    "web_scraper('MSFT')"
   ]
  },
  {
   "cell_type": "code",
   "execution_count": null,
   "metadata": {
    "ExecuteTime": {
     "end_time": "2021-04-14T14:57:58.062419Z",
     "start_time": "2021-04-14T14:57:50.353078Z"
    }
   },
   "outputs": [],
   "source": [
    "ESG_Summary = pd.DataFrame({})\n",
    "for i in set(figi.ticker.iloc[0:50].tolist()):\n",
    "    ESG_Summary.append(web_scraper(i))\n",
    "ESG_Summary"
   ]
  },
  {
   "cell_type": "markdown",
   "metadata": {},
   "source": [
    "# Find Sectors and Locations of Companies"
   ]
  },
  {
   "cell_type": "code",
   "execution_count": 115,
   "metadata": {
    "ExecuteTime": {
     "end_time": "2021-04-26T11:06:27.892519Z",
     "start_time": "2021-04-26T11:06:27.889534Z"
    }
   },
   "outputs": [],
   "source": [
    "# Requirements\n",
    "from OpenPermID import OpenPermID\n",
    "import Levenshtein\n",
    "import geocoder"
   ]
  },
  {
   "cell_type": "code",
   "execution_count": 116,
   "metadata": {
    "ExecuteTime": {
     "end_time": "2021-04-26T11:06:29.292445Z",
     "start_time": "2021-04-26T11:06:29.287459Z"
    }
   },
   "outputs": [],
   "source": [
    "# Gain access to the permid database\n",
    "opid = OpenPermID()\n",
    "opid.set_access_token(\"r95vEAhvmucG8iNGtsP17hjbgUGMhz4j\")"
   ]
  },
  {
   "cell_type": "code",
   "execution_count": 117,
   "metadata": {
    "ExecuteTime": {
     "end_time": "2021-04-26T11:10:52.630271Z",
     "start_time": "2021-04-26T11:06:30.668695Z"
    }
   },
   "outputs": [
    {
     "data": {
      "text/html": [
       "<div>\n",
       "<style scoped>\n",
       "    .dataframe tbody tr th:only-of-type {\n",
       "        vertical-align: middle;\n",
       "    }\n",
       "\n",
       "    .dataframe tbody tr th {\n",
       "        vertical-align: top;\n",
       "    }\n",
       "\n",
       "    .dataframe thead th {\n",
       "        text-align: right;\n",
       "    }\n",
       "</style>\n",
       "<table border=\"1\" class=\"dataframe\">\n",
       "  <thead>\n",
       "    <tr style=\"text-align: right;\">\n",
       "      <th></th>\n",
       "      <th>keyword</th>\n",
       "      <th>companyName</th>\n",
       "      <th>PermID</th>\n",
       "    </tr>\n",
       "  </thead>\n",
       "  <tbody>\n",
       "    <tr>\n",
       "      <th>0</th>\n",
       "      <td>Elia Transmission Belgium</td>\n",
       "      <td>Elia Transmission Belgium NV</td>\n",
       "      <td>1-5071549731</td>\n",
       "    </tr>\n",
       "    <tr>\n",
       "      <th>0</th>\n",
       "      <td>Enodia SCRL</td>\n",
       "      <td>Enodia SCRL</td>\n",
       "      <td>1-4297881749</td>\n",
       "    </tr>\n",
       "    <tr>\n",
       "      <th>0</th>\n",
       "      <td>Groupe Bruxelles Lambert SA</td>\n",
       "      <td>Groupe Bruxelles Lambert SA</td>\n",
       "      <td>1-5066557287</td>\n",
       "    </tr>\n",
       "    <tr>\n",
       "      <th>0</th>\n",
       "      <td>Fluvius System Operator CVBA</td>\n",
       "      <td>Fluvius System Operator CVBA</td>\n",
       "      <td>1-4297633980</td>\n",
       "    </tr>\n",
       "    <tr>\n",
       "      <th>0</th>\n",
       "      <td>BEFIMMO SA</td>\n",
       "      <td>Befimmo SA</td>\n",
       "      <td>1-4295859373</td>\n",
       "    </tr>\n",
       "    <tr>\n",
       "      <th>...</th>\n",
       "      <td>...</td>\n",
       "      <td>...</td>\n",
       "      <td>...</td>\n",
       "    </tr>\n",
       "    <tr>\n",
       "      <th>0</th>\n",
       "      <td>Esselunga S.p.A.</td>\n",
       "      <td>Esselunga SpA</td>\n",
       "      <td>1-4297965300</td>\n",
       "    </tr>\n",
       "    <tr>\n",
       "      <th>0</th>\n",
       "      <td>ERG S.p.A</td>\n",
       "      <td>ERG SpA</td>\n",
       "      <td>1-4295875564</td>\n",
       "    </tr>\n",
       "    <tr>\n",
       "      <th>0</th>\n",
       "      <td>RAI - RADIOTELEVISIONE ITALIANA SPA</td>\n",
       "      <td>RAI Radiotelevisione Italiana SpA</td>\n",
       "      <td>1-4296949624</td>\n",
       "    </tr>\n",
       "    <tr>\n",
       "      <th>0</th>\n",
       "      <td>Infrastrutture Wireless Italiane S.p.A</td>\n",
       "      <td>Infrastrutture Wireless Italiane SpA</td>\n",
       "      <td>1-5045517782</td>\n",
       "    </tr>\n",
       "    <tr>\n",
       "      <th>0</th>\n",
       "      <td>Poste Italiane S.p.A.</td>\n",
       "      <td>Poste Italiane SpA</td>\n",
       "      <td>1-4295875842</td>\n",
       "    </tr>\n",
       "  </tbody>\n",
       "</table>\n",
       "<p>355 rows × 3 columns</p>\n",
       "</div>"
      ],
      "text/plain": [
       "                                   keyword  \\\n",
       "0                Elia Transmission Belgium   \n",
       "0                              Enodia SCRL   \n",
       "0              Groupe Bruxelles Lambert SA   \n",
       "0             Fluvius System Operator CVBA   \n",
       "0                               BEFIMMO SA   \n",
       "..                                     ...   \n",
       "0                         Esselunga S.p.A.   \n",
       "0                                ERG S.p.A   \n",
       "0      RAI - RADIOTELEVISIONE ITALIANA SPA   \n",
       "0   Infrastrutture Wireless Italiane S.p.A   \n",
       "0                    Poste Italiane S.p.A.   \n",
       "\n",
       "                             companyName        PermID  \n",
       "0           Elia Transmission Belgium NV  1-5071549731  \n",
       "0                            Enodia SCRL  1-4297881749  \n",
       "0            Groupe Bruxelles Lambert SA  1-5066557287  \n",
       "0           Fluvius System Operator CVBA  1-4297633980  \n",
       "0                             Befimmo SA  1-4295859373  \n",
       "..                                   ...           ...  \n",
       "0                          Esselunga SpA  1-4297965300  \n",
       "0                                ERG SpA  1-4295875564  \n",
       "0      RAI Radiotelevisione Italiana SpA  1-4296949624  \n",
       "0   Infrastrutture Wireless Italiane SpA  1-5045517782  \n",
       "0                     Poste Italiane SpA  1-4295875842  \n",
       "\n",
       "[355 rows x 3 columns]"
      ]
     },
     "execution_count": 117,
     "metadata": {},
     "output_type": "execute_result"
    }
   ],
   "source": [
    "companies = holdings20210402.ISSUER.astype('string').unique()\n",
    "permid_mappings = pd.DataFrame({})\n",
    "unmapped_companies = []\n",
    "\n",
    "for company in companies:\n",
    "    \n",
    "    # In case of connection error, allow it to try at most 5 times\n",
    "    err, count = 0, 0\n",
    "    while (err != None and count < 5):\n",
    "        output, err = opid.search(company)\n",
    "    if err != None:\n",
    "        unmapped_companies.append(company)\n",
    "        continue\n",
    "    \n",
    "    \n",
    "    df = output['organizations']\n",
    "    if len(df) == 0:\n",
    "        permid = np.NaN\n",
    "        name = np.NaN\n",
    "    elif len(df) == 1:\n",
    "        permid = df.iloc[0,0].split('/')[-1]\n",
    "        name = df.iloc[0,1]\n",
    "    else:\n",
    "        # If multiple records are return, choose the record which the company name is the most similar to the keyword\n",
    "        similarityScores = df.organizationName.apply(lambda x: Levenshtein.ratio(company, x))\n",
    "        max_index = similarityScores.idxmax()\n",
    "        permid = df.iloc[max_index, 0].split('/')[-1]\n",
    "        name = df.iloc[max_index, 1]\n",
    "    permid_mappings = permid_mappings.append(pd.DataFrame({'keyword':[company], 'companyName': [name], 'PermID':[permid]}))\n",
    "    \n",
    "permid_mappings"
   ]
  },
  {
   "cell_type": "code",
   "execution_count": 118,
   "metadata": {
    "ExecuteTime": {
     "end_time": "2021-04-26T11:11:43.757346Z",
     "start_time": "2021-04-26T11:10:52.844653Z"
    }
   },
   "outputs": [
    {
     "data": {
      "text/html": [
       "<div>\n",
       "<style scoped>\n",
       "    .dataframe tbody tr th:only-of-type {\n",
       "        vertical-align: middle;\n",
       "    }\n",
       "\n",
       "    .dataframe tbody tr th {\n",
       "        vertical-align: top;\n",
       "    }\n",
       "\n",
       "    .dataframe thead th {\n",
       "        text-align: right;\n",
       "    }\n",
       "</style>\n",
       "<table border=\"1\" class=\"dataframe\">\n",
       "  <thead>\n",
       "    <tr style=\"text-align: right;\">\n",
       "      <th></th>\n",
       "      <th>PermID</th>\n",
       "      <th>hasPrimaryBusinessSector</th>\n",
       "      <th>hasPrimaryEconomicSector</th>\n",
       "      <th>hasPrimaryIndustryGroup</th>\n",
       "      <th>isIncorporatedIn</th>\n",
       "      <th>isDomiciledIn</th>\n",
       "    </tr>\n",
       "  </thead>\n",
       "  <tbody>\n",
       "    <tr>\n",
       "      <th>0</th>\n",
       "      <td>1-5071549731</td>\n",
       "      <td>1-4294952820</td>\n",
       "      <td>1-4294952821</td>\n",
       "      <td>1-4294952819</td>\n",
       "      <td>2802361</td>\n",
       "      <td>2802361</td>\n",
       "    </tr>\n",
       "    <tr>\n",
       "      <th>0</th>\n",
       "      <td>1-4297881749</td>\n",
       "      <td>1-4294952739</td>\n",
       "      <td>1-4294952740</td>\n",
       "      <td>1-4294952738</td>\n",
       "      <td>2802361</td>\n",
       "      <td>2802361</td>\n",
       "    </tr>\n",
       "    <tr>\n",
       "      <th>0</th>\n",
       "      <td>1-5066557287</td>\n",
       "      <td>1-4294952773</td>\n",
       "      <td>1-4294952774</td>\n",
       "      <td>1-4294952976</td>\n",
       "      <td>2802361</td>\n",
       "      <td>2802361</td>\n",
       "    </tr>\n",
       "    <tr>\n",
       "      <th>0</th>\n",
       "      <td>1-4297633980</td>\n",
       "      <td>1-4294952820</td>\n",
       "      <td>1-4294952821</td>\n",
       "      <td>1-4294952813</td>\n",
       "      <td>2802361</td>\n",
       "      <td>2802361</td>\n",
       "    </tr>\n",
       "    <tr>\n",
       "      <th>0</th>\n",
       "      <td>1-4295859373</td>\n",
       "      <td>1-4294952860</td>\n",
       "      <td>1-1004365438</td>\n",
       "      <td>1-4294952857</td>\n",
       "      <td>2802361</td>\n",
       "      <td>2802361</td>\n",
       "    </tr>\n",
       "    <tr>\n",
       "      <th>...</th>\n",
       "      <td>...</td>\n",
       "      <td>...</td>\n",
       "      <td>...</td>\n",
       "      <td>...</td>\n",
       "      <td>...</td>\n",
       "      <td>...</td>\n",
       "    </tr>\n",
       "    <tr>\n",
       "      <th>0</th>\n",
       "      <td>1-4297965300</td>\n",
       "      <td>1-4294952880</td>\n",
       "      <td>1-4294952895</td>\n",
       "      <td>1-4294952879</td>\n",
       "      <td>3175395</td>\n",
       "      <td>3175395</td>\n",
       "    </tr>\n",
       "    <tr>\n",
       "      <th>0</th>\n",
       "      <td>1-4295875564</td>\n",
       "      <td>1-4294952820</td>\n",
       "      <td>1-4294952821</td>\n",
       "      <td>1-4294952819</td>\n",
       "      <td>3175395</td>\n",
       "      <td>3175395</td>\n",
       "    </tr>\n",
       "    <tr>\n",
       "      <th>0</th>\n",
       "      <td>1-4296949624</td>\n",
       "      <td>1-4294952915</td>\n",
       "      <td>1-4294952746</td>\n",
       "      <td>1-4294952742</td>\n",
       "      <td>3175395</td>\n",
       "      <td>3175395</td>\n",
       "    </tr>\n",
       "    <tr>\n",
       "      <th>0</th>\n",
       "      <td>1-5045517782</td>\n",
       "      <td>1-4294952825</td>\n",
       "      <td>1-4294952723</td>\n",
       "      <td>1-4294952824</td>\n",
       "      <td>3175395</td>\n",
       "      <td>3175395</td>\n",
       "    </tr>\n",
       "    <tr>\n",
       "      <th>0</th>\n",
       "      <td>1-4295875842</td>\n",
       "      <td>1-4294952945</td>\n",
       "      <td>1-4294952767</td>\n",
       "      <td>1-4294952757</td>\n",
       "      <td>3175395</td>\n",
       "      <td>3175395</td>\n",
       "    </tr>\n",
       "  </tbody>\n",
       "</table>\n",
       "<p>325 rows × 6 columns</p>\n",
       "</div>"
      ],
      "text/plain": [
       "          PermID hasPrimaryBusinessSector hasPrimaryEconomicSector  \\\n",
       "0   1-5071549731             1-4294952820             1-4294952821   \n",
       "0   1-4297881749             1-4294952739             1-4294952740   \n",
       "0   1-5066557287             1-4294952773             1-4294952774   \n",
       "0   1-4297633980             1-4294952820             1-4294952821   \n",
       "0   1-4295859373             1-4294952860             1-1004365438   \n",
       "..           ...                      ...                      ...   \n",
       "0   1-4297965300             1-4294952880             1-4294952895   \n",
       "0   1-4295875564             1-4294952820             1-4294952821   \n",
       "0   1-4296949624             1-4294952915             1-4294952746   \n",
       "0   1-5045517782             1-4294952825             1-4294952723   \n",
       "0   1-4295875842             1-4294952945             1-4294952767   \n",
       "\n",
       "   hasPrimaryIndustryGroup isIncorporatedIn isDomiciledIn  \n",
       "0             1-4294952819          2802361       2802361  \n",
       "0             1-4294952738          2802361       2802361  \n",
       "0             1-4294952976          2802361       2802361  \n",
       "0             1-4294952813          2802361       2802361  \n",
       "0             1-4294952857          2802361       2802361  \n",
       "..                     ...              ...           ...  \n",
       "0             1-4294952879          3175395       3175395  \n",
       "0             1-4294952819          3175395       3175395  \n",
       "0             1-4294952742          3175395       3175395  \n",
       "0             1-4294952824          3175395       3175395  \n",
       "0             1-4294952757          3175395       3175395  \n",
       "\n",
       "[325 rows x 6 columns]"
      ]
     },
     "execution_count": 118,
     "metadata": {},
     "output_type": "execute_result"
    }
   ],
   "source": [
    "permids = permid_mappings.PermID.dropna().astype('string')\n",
    "sector_lookups = pd.DataFrame({})\n",
    "unsuccessful_lookups = []\n",
    "\n",
    "for permid in permids:\n",
    "    \n",
    "    # In case of connection error, allow it to try at most 5 times\n",
    "    err, count = 0, 0\n",
    "    while (err != None and count < 5):\n",
    "        output, err = opid.lookup(permid)\n",
    "    if err != None:\n",
    "        unsuccessful_lookups.append(permid)\n",
    "        continue\n",
    "\n",
    "    if \"hasPrimaryBusinessSector\" in output.columns:\n",
    "        sector_info = output.loc[:, 'hasPrimaryBusinessSector': 'hasPrimaryIndustryGroup']\n",
    "        sector_info = sector_info.applymap(lambda x: x.split('/')[-1])\n",
    "    if \"isIncorporatedIn\" in output.columns:\n",
    "        loc_info = output.loc[:, 'isIncorporatedIn': 'isDomiciledIn']\n",
    "        loc_info = loc_info.applymap(lambda x: x.split('/')[-2])\n",
    "        \n",
    "    row = pd.DataFrame({'PermID': [permid]})\n",
    "    row = pd.concat([row, sector_info], axis = 1) if type(sector_info) == pd.DataFrame else row\n",
    "    row = pd.concat([row, loc_info], axis = 1) if type(loc_info) == pd.DataFrame else row\n",
    "    sector_lookups = sector_lookups.append(row)\n",
    "    \n",
    "    sector_info, loc_info = None, None\n",
    "\n",
    "sector_lookups"
   ]
  },
  {
   "cell_type": "code",
   "execution_count": 119,
   "metadata": {
    "ExecuteTime": {
     "end_time": "2021-04-26T11:14:28.766635Z",
     "start_time": "2021-04-26T11:13:59.022716Z"
    }
   },
   "outputs": [
    {
     "data": {
      "text/html": [
       "<div>\n",
       "<style scoped>\n",
       "    .dataframe tbody tr th:only-of-type {\n",
       "        vertical-align: middle;\n",
       "    }\n",
       "\n",
       "    .dataframe tbody tr th {\n",
       "        vertical-align: top;\n",
       "    }\n",
       "\n",
       "    .dataframe thead th {\n",
       "        text-align: right;\n",
       "    }\n",
       "</style>\n",
       "<table border=\"1\" class=\"dataframe\">\n",
       "  <thead>\n",
       "    <tr style=\"text-align: right;\">\n",
       "      <th></th>\n",
       "      <th>PermID</th>\n",
       "      <th>hasPrimaryBusinessSector</th>\n",
       "      <th>hasPrimaryEconomicSector</th>\n",
       "      <th>hasPrimaryIndustryGroup</th>\n",
       "      <th>isIncorporatedIn</th>\n",
       "      <th>isDomiciledIn</th>\n",
       "    </tr>\n",
       "  </thead>\n",
       "  <tbody>\n",
       "    <tr>\n",
       "      <th>0</th>\n",
       "      <td>1-5071549731</td>\n",
       "      <td>Utilities</td>\n",
       "      <td>Utilities</td>\n",
       "      <td>Electric Utilities &amp; IPPs</td>\n",
       "      <td>Belgium</td>\n",
       "      <td>Belgium</td>\n",
       "    </tr>\n",
       "    <tr>\n",
       "      <th>0</th>\n",
       "      <td>1-4297881749</td>\n",
       "      <td>Banking &amp; Investment Services</td>\n",
       "      <td>Financials</td>\n",
       "      <td>Investment Banking &amp; Investment Services</td>\n",
       "      <td>Belgium</td>\n",
       "      <td>Belgium</td>\n",
       "    </tr>\n",
       "    <tr>\n",
       "      <th>0</th>\n",
       "      <td>1-5066557287</td>\n",
       "      <td>Mineral Resources</td>\n",
       "      <td>Basic Materials</td>\n",
       "      <td>Construction Materials</td>\n",
       "      <td>Belgium</td>\n",
       "      <td>Belgium</td>\n",
       "    </tr>\n",
       "    <tr>\n",
       "      <th>0</th>\n",
       "      <td>1-4297633980</td>\n",
       "      <td>Utilities</td>\n",
       "      <td>Utilities</td>\n",
       "      <td>Multiline Utilities</td>\n",
       "      <td>Belgium</td>\n",
       "      <td>Belgium</td>\n",
       "    </tr>\n",
       "    <tr>\n",
       "      <th>0</th>\n",
       "      <td>1-4295859373</td>\n",
       "      <td>Real Estate</td>\n",
       "      <td>Real Estate</td>\n",
       "      <td>Residential &amp; Commercial REITs</td>\n",
       "      <td>Belgium</td>\n",
       "      <td>Belgium</td>\n",
       "    </tr>\n",
       "    <tr>\n",
       "      <th>...</th>\n",
       "      <td>...</td>\n",
       "      <td>...</td>\n",
       "      <td>...</td>\n",
       "      <td>...</td>\n",
       "      <td>...</td>\n",
       "      <td>...</td>\n",
       "    </tr>\n",
       "    <tr>\n",
       "      <th>0</th>\n",
       "      <td>1-4297965300</td>\n",
       "      <td>Food &amp; Drug Retailing</td>\n",
       "      <td>Consumer Non-Cyclicals</td>\n",
       "      <td>Food &amp; Drug Retailing</td>\n",
       "      <td>Italy</td>\n",
       "      <td>Italy</td>\n",
       "    </tr>\n",
       "    <tr>\n",
       "      <th>0</th>\n",
       "      <td>1-4295875564</td>\n",
       "      <td>Utilities</td>\n",
       "      <td>Utilities</td>\n",
       "      <td>Electric Utilities &amp; IPPs</td>\n",
       "      <td>Italy</td>\n",
       "      <td>Italy</td>\n",
       "    </tr>\n",
       "    <tr>\n",
       "      <th>0</th>\n",
       "      <td>1-4296949624</td>\n",
       "      <td>Cyclical Consumer Services</td>\n",
       "      <td>Consumer Cyclicals</td>\n",
       "      <td>Media &amp; Publishing</td>\n",
       "      <td>Italy</td>\n",
       "      <td>Italy</td>\n",
       "    </tr>\n",
       "    <tr>\n",
       "      <th>0</th>\n",
       "      <td>1-5045517782</td>\n",
       "      <td>Telecommunications Services</td>\n",
       "      <td>Technology</td>\n",
       "      <td>Telecommunications Services</td>\n",
       "      <td>Italy</td>\n",
       "      <td>Italy</td>\n",
       "    </tr>\n",
       "    <tr>\n",
       "      <th>0</th>\n",
       "      <td>1-4295875842</td>\n",
       "      <td>Transportation</td>\n",
       "      <td>Industrials</td>\n",
       "      <td>[Freight&amp;Logistics Services, Freight &amp; Logisti...</td>\n",
       "      <td>Italy</td>\n",
       "      <td>Italy</td>\n",
       "    </tr>\n",
       "  </tbody>\n",
       "</table>\n",
       "<p>325 rows × 6 columns</p>\n",
       "</div>"
      ],
      "text/plain": [
       "          PermID       hasPrimaryBusinessSector hasPrimaryEconomicSector  \\\n",
       "0   1-5071549731                      Utilities                Utilities   \n",
       "0   1-4297881749  Banking & Investment Services               Financials   \n",
       "0   1-5066557287              Mineral Resources          Basic Materials   \n",
       "0   1-4297633980                      Utilities                Utilities   \n",
       "0   1-4295859373                    Real Estate              Real Estate   \n",
       "..           ...                            ...                      ...   \n",
       "0   1-4297965300          Food & Drug Retailing   Consumer Non-Cyclicals   \n",
       "0   1-4295875564                      Utilities                Utilities   \n",
       "0   1-4296949624     Cyclical Consumer Services       Consumer Cyclicals   \n",
       "0   1-5045517782    Telecommunications Services               Technology   \n",
       "0   1-4295875842                 Transportation              Industrials   \n",
       "\n",
       "                              hasPrimaryIndustryGroup isIncorporatedIn  \\\n",
       "0                           Electric Utilities & IPPs          Belgium   \n",
       "0            Investment Banking & Investment Services          Belgium   \n",
       "0                              Construction Materials          Belgium   \n",
       "0                                 Multiline Utilities          Belgium   \n",
       "0                      Residential & Commercial REITs          Belgium   \n",
       "..                                                ...              ...   \n",
       "0                               Food & Drug Retailing            Italy   \n",
       "0                           Electric Utilities & IPPs            Italy   \n",
       "0                                  Media & Publishing            Italy   \n",
       "0                         Telecommunications Services            Italy   \n",
       "0   [Freight&Logistics Services, Freight & Logisti...            Italy   \n",
       "\n",
       "   isDomiciledIn  \n",
       "0        Belgium  \n",
       "0        Belgium  \n",
       "0        Belgium  \n",
       "0        Belgium  \n",
       "0        Belgium  \n",
       "..           ...  \n",
       "0          Italy  \n",
       "0          Italy  \n",
       "0          Italy  \n",
       "0          Italy  \n",
       "0          Italy  \n",
       "\n",
       "[325 rows x 6 columns]"
      ]
     },
     "execution_count": 119,
     "metadata": {},
     "output_type": "execute_result"
    }
   ],
   "source": [
    "sector_lookups_converted = sector_lookups.copy()\n",
    "sector_types = sector_lookups.columns[1:4]\n",
    "for sector_type in sector_types:\n",
    "    sector_dict = {}\n",
    "    sectors = sector_lookups.loc[:, sector_type].dropna().astype('string').unique()\n",
    "    for sector in sectors:\n",
    "        output, err = opid.lookup(sector)\n",
    "        sector_dict[sector] = output.iloc[0, -1]\n",
    "    sector_lookups_converted[sector_type] = sector_lookups[sector_type].fillna('missing').astype('string').apply(lambda x: np.NaN if x == 'missing' else sector_dict[x])\n",
    "\n",
    "loc_types = sector_lookups.columns[4:]\n",
    "for loc_type in loc_types:\n",
    "    loc_dict = {}\n",
    "    locs = sector_lookups.loc[:, loc_type].dropna().astype('string').unique()\n",
    "    for loc in locs:\n",
    "        g = geocoder.geonames(loc, method='details', key='brian1998716')\n",
    "        loc_dict[loc] = g.address\n",
    "    sector_lookups_converted[loc_type] = sector_lookups[loc_type].fillna('missing').astype('string').apply(lambda x: np.NaN if x == 'missing' else loc_dict[x])\n",
    "\n",
    "sector_lookups_converted"
   ]
  },
  {
   "cell_type": "code",
   "execution_count": 120,
   "metadata": {
    "ExecuteTime": {
     "end_time": "2021-04-26T11:14:35.676621Z",
     "start_time": "2021-04-26T11:14:35.658668Z"
    }
   },
   "outputs": [
    {
     "data": {
      "text/html": [
       "<div>\n",
       "<style scoped>\n",
       "    .dataframe tbody tr th:only-of-type {\n",
       "        vertical-align: middle;\n",
       "    }\n",
       "\n",
       "    .dataframe tbody tr th {\n",
       "        vertical-align: top;\n",
       "    }\n",
       "\n",
       "    .dataframe thead th {\n",
       "        text-align: right;\n",
       "    }\n",
       "</style>\n",
       "<table border=\"1\" class=\"dataframe\">\n",
       "  <thead>\n",
       "    <tr style=\"text-align: right;\">\n",
       "      <th></th>\n",
       "      <th>keyword</th>\n",
       "      <th>companyName</th>\n",
       "      <th>PermID</th>\n",
       "      <th>hasPrimaryBusinessSector</th>\n",
       "      <th>hasPrimaryEconomicSector</th>\n",
       "      <th>hasPrimaryIndustryGroup</th>\n",
       "      <th>isIncorporatedIn</th>\n",
       "      <th>isDomiciledIn</th>\n",
       "    </tr>\n",
       "  </thead>\n",
       "  <tbody>\n",
       "    <tr>\n",
       "      <th>0</th>\n",
       "      <td>Elia Transmission Belgium</td>\n",
       "      <td>Elia Transmission Belgium NV</td>\n",
       "      <td>1-5071549731</td>\n",
       "      <td>Utilities</td>\n",
       "      <td>Utilities</td>\n",
       "      <td>Electric Utilities &amp; IPPs</td>\n",
       "      <td>Belgium</td>\n",
       "      <td>Belgium</td>\n",
       "    </tr>\n",
       "    <tr>\n",
       "      <th>1</th>\n",
       "      <td>Enodia SCRL</td>\n",
       "      <td>Enodia SCRL</td>\n",
       "      <td>1-4297881749</td>\n",
       "      <td>Banking &amp; Investment Services</td>\n",
       "      <td>Financials</td>\n",
       "      <td>Investment Banking &amp; Investment Services</td>\n",
       "      <td>Belgium</td>\n",
       "      <td>Belgium</td>\n",
       "    </tr>\n",
       "    <tr>\n",
       "      <th>2</th>\n",
       "      <td>Groupe Bruxelles Lambert SA</td>\n",
       "      <td>Groupe Bruxelles Lambert SA</td>\n",
       "      <td>1-5066557287</td>\n",
       "      <td>Mineral Resources</td>\n",
       "      <td>Basic Materials</td>\n",
       "      <td>Construction Materials</td>\n",
       "      <td>Belgium</td>\n",
       "      <td>Belgium</td>\n",
       "    </tr>\n",
       "    <tr>\n",
       "      <th>3</th>\n",
       "      <td>Fluvius System Operator CVBA</td>\n",
       "      <td>Fluvius System Operator CVBA</td>\n",
       "      <td>1-4297633980</td>\n",
       "      <td>Utilities</td>\n",
       "      <td>Utilities</td>\n",
       "      <td>Multiline Utilities</td>\n",
       "      <td>Belgium</td>\n",
       "      <td>Belgium</td>\n",
       "    </tr>\n",
       "    <tr>\n",
       "      <th>4</th>\n",
       "      <td>BEFIMMO SA</td>\n",
       "      <td>Befimmo SA</td>\n",
       "      <td>1-4295859373</td>\n",
       "      <td>Real Estate</td>\n",
       "      <td>Real Estate</td>\n",
       "      <td>Residential &amp; Commercial REITs</td>\n",
       "      <td>Belgium</td>\n",
       "      <td>Belgium</td>\n",
       "    </tr>\n",
       "    <tr>\n",
       "      <th>...</th>\n",
       "      <td>...</td>\n",
       "      <td>...</td>\n",
       "      <td>...</td>\n",
       "      <td>...</td>\n",
       "      <td>...</td>\n",
       "      <td>...</td>\n",
       "      <td>...</td>\n",
       "      <td>...</td>\n",
       "    </tr>\n",
       "    <tr>\n",
       "      <th>350</th>\n",
       "      <td>Esselunga S.p.A.</td>\n",
       "      <td>Esselunga SpA</td>\n",
       "      <td>1-4297965300</td>\n",
       "      <td>Food &amp; Drug Retailing</td>\n",
       "      <td>Consumer Non-Cyclicals</td>\n",
       "      <td>Food &amp; Drug Retailing</td>\n",
       "      <td>Italy</td>\n",
       "      <td>Italy</td>\n",
       "    </tr>\n",
       "    <tr>\n",
       "      <th>351</th>\n",
       "      <td>ERG S.p.A</td>\n",
       "      <td>ERG SpA</td>\n",
       "      <td>1-4295875564</td>\n",
       "      <td>Utilities</td>\n",
       "      <td>Utilities</td>\n",
       "      <td>Electric Utilities &amp; IPPs</td>\n",
       "      <td>Italy</td>\n",
       "      <td>Italy</td>\n",
       "    </tr>\n",
       "    <tr>\n",
       "      <th>352</th>\n",
       "      <td>RAI - RADIOTELEVISIONE ITALIANA SPA</td>\n",
       "      <td>RAI Radiotelevisione Italiana SpA</td>\n",
       "      <td>1-4296949624</td>\n",
       "      <td>Cyclical Consumer Services</td>\n",
       "      <td>Consumer Cyclicals</td>\n",
       "      <td>Media &amp; Publishing</td>\n",
       "      <td>Italy</td>\n",
       "      <td>Italy</td>\n",
       "    </tr>\n",
       "    <tr>\n",
       "      <th>353</th>\n",
       "      <td>Infrastrutture Wireless Italiane S.p.A</td>\n",
       "      <td>Infrastrutture Wireless Italiane SpA</td>\n",
       "      <td>1-5045517782</td>\n",
       "      <td>Telecommunications Services</td>\n",
       "      <td>Technology</td>\n",
       "      <td>Telecommunications Services</td>\n",
       "      <td>Italy</td>\n",
       "      <td>Italy</td>\n",
       "    </tr>\n",
       "    <tr>\n",
       "      <th>354</th>\n",
       "      <td>Poste Italiane S.p.A.</td>\n",
       "      <td>Poste Italiane SpA</td>\n",
       "      <td>1-4295875842</td>\n",
       "      <td>Transportation</td>\n",
       "      <td>Industrials</td>\n",
       "      <td>[Freight&amp;Logistics Services, Freight &amp; Logisti...</td>\n",
       "      <td>Italy</td>\n",
       "      <td>Italy</td>\n",
       "    </tr>\n",
       "  </tbody>\n",
       "</table>\n",
       "<p>355 rows × 8 columns</p>\n",
       "</div>"
      ],
      "text/plain": [
       "                                    keyword  \\\n",
       "0                 Elia Transmission Belgium   \n",
       "1                               Enodia SCRL   \n",
       "2               Groupe Bruxelles Lambert SA   \n",
       "3              Fluvius System Operator CVBA   \n",
       "4                                BEFIMMO SA   \n",
       "..                                      ...   \n",
       "350                        Esselunga S.p.A.   \n",
       "351                               ERG S.p.A   \n",
       "352     RAI - RADIOTELEVISIONE ITALIANA SPA   \n",
       "353  Infrastrutture Wireless Italiane S.p.A   \n",
       "354                   Poste Italiane S.p.A.   \n",
       "\n",
       "                              companyName        PermID  \\\n",
       "0            Elia Transmission Belgium NV  1-5071549731   \n",
       "1                             Enodia SCRL  1-4297881749   \n",
       "2             Groupe Bruxelles Lambert SA  1-5066557287   \n",
       "3            Fluvius System Operator CVBA  1-4297633980   \n",
       "4                              Befimmo SA  1-4295859373   \n",
       "..                                    ...           ...   \n",
       "350                         Esselunga SpA  1-4297965300   \n",
       "351                               ERG SpA  1-4295875564   \n",
       "352     RAI Radiotelevisione Italiana SpA  1-4296949624   \n",
       "353  Infrastrutture Wireless Italiane SpA  1-5045517782   \n",
       "354                    Poste Italiane SpA  1-4295875842   \n",
       "\n",
       "          hasPrimaryBusinessSector hasPrimaryEconomicSector  \\\n",
       "0                        Utilities                Utilities   \n",
       "1    Banking & Investment Services               Financials   \n",
       "2                Mineral Resources          Basic Materials   \n",
       "3                        Utilities                Utilities   \n",
       "4                      Real Estate              Real Estate   \n",
       "..                             ...                      ...   \n",
       "350          Food & Drug Retailing   Consumer Non-Cyclicals   \n",
       "351                      Utilities                Utilities   \n",
       "352     Cyclical Consumer Services       Consumer Cyclicals   \n",
       "353    Telecommunications Services               Technology   \n",
       "354                 Transportation              Industrials   \n",
       "\n",
       "                               hasPrimaryIndustryGroup isIncorporatedIn  \\\n",
       "0                            Electric Utilities & IPPs          Belgium   \n",
       "1             Investment Banking & Investment Services          Belgium   \n",
       "2                               Construction Materials          Belgium   \n",
       "3                                  Multiline Utilities          Belgium   \n",
       "4                       Residential & Commercial REITs          Belgium   \n",
       "..                                                 ...              ...   \n",
       "350                              Food & Drug Retailing            Italy   \n",
       "351                          Electric Utilities & IPPs            Italy   \n",
       "352                                 Media & Publishing            Italy   \n",
       "353                        Telecommunications Services            Italy   \n",
       "354  [Freight&Logistics Services, Freight & Logisti...            Italy   \n",
       "\n",
       "    isDomiciledIn  \n",
       "0         Belgium  \n",
       "1         Belgium  \n",
       "2         Belgium  \n",
       "3         Belgium  \n",
       "4         Belgium  \n",
       "..            ...  \n",
       "350         Italy  \n",
       "351         Italy  \n",
       "352         Italy  \n",
       "353         Italy  \n",
       "354         Italy  \n",
       "\n",
       "[355 rows x 8 columns]"
      ]
     },
     "execution_count": 120,
     "metadata": {},
     "output_type": "execute_result"
    }
   ],
   "source": [
    "sector_mappings = pd.merge(permid_mappings, sector_lookups_converted, how = 'left', on = 'PermID')\n",
    "sector_mappings"
   ]
  },
  {
   "cell_type": "code",
   "execution_count": 121,
   "metadata": {
    "ExecuteTime": {
     "end_time": "2021-04-26T11:14:38.488544Z",
     "start_time": "2021-04-26T11:14:38.481565Z"
    }
   },
   "outputs": [
    {
     "data": {
      "text/plain": [
       "keyword                     355\n",
       "companyName                 325\n",
       "PermID                      325\n",
       "hasPrimaryBusinessSector    303\n",
       "hasPrimaryEconomicSector    303\n",
       "hasPrimaryIndustryGroup     303\n",
       "isIncorporatedIn            319\n",
       "isDomiciledIn               319\n",
       "dtype: int64"
      ]
     },
     "execution_count": 121,
     "metadata": {},
     "output_type": "execute_result"
    }
   ],
   "source": [
    "sector_mappings.count()"
   ]
  },
  {
   "cell_type": "markdown",
   "metadata": {},
   "source": [
    "# Get all industries in which ECB invested"
   ]
  },
  {
   "cell_type": "markdown",
   "metadata": {},
   "source": [
    "1) Import all the data into one big data frame (done)\n",
    "2) Search for all the ISINs\n",
    "3) Find \"green bond\", \"ESG bond\" and most importantly \"sector\"\n",
    "4) Analyse sectoer ?! --> TODO"
   ]
  },
  {
   "cell_type": "code",
   "execution_count": 62,
   "metadata": {
    "ExecuteTime": {
     "end_time": "2021-04-26T10:11:10.259730Z",
     "start_time": "2021-04-26T10:11:10.241401Z"
    }
   },
   "outputs": [],
   "source": [
    "import pandas as pd\n",
    "import os"
   ]
  },
  {
   "cell_type": "code",
   "execution_count": 63,
   "metadata": {
    "ExecuteTime": {
     "end_time": "2021-04-26T10:11:12.984207Z",
     "start_time": "2021-04-26T10:11:11.500042Z"
    },
    "scrolled": true
   },
   "outputs": [],
   "source": [
    "folder_files = os.listdir(\"data/Sector_data/\")\n",
    "sector_data = pd.DataFrame({})\n",
    "for file in folder_files:\n",
    "    if (file != '.ipynb_checkpoints'): # TODO: find cleaner way\n",
    "        sector_data_extra = pd.ExcelFile(\"data/Sector_data/\"+file)\n",
    "        sector_data = sector_data.append(sector_data_extra.parse())"
   ]
  },
  {
   "cell_type": "code",
   "execution_count": 105,
   "metadata": {
    "ExecuteTime": {
     "end_time": "2021-04-26T10:28:48.125379Z",
     "start_time": "2021-04-26T10:28:47.808784Z"
    }
   },
   "outputs": [],
   "source": [
    "merged_sector_data = holdingsECB.merge(sector_data, \"left\", \"ISIN\")\n",
    "merged_sector_data = merged_sector_data.dropna(subset=['Issuer'])\n",
    "#merged_sector_data.to_excel('data/Sector_data/test_output.xlsx') # Export the resulting data to an excel file"
   ]
  },
  {
   "cell_type": "code",
   "execution_count": 179,
   "metadata": {
    "ExecuteTime": {
     "end_time": "2021-04-26T12:25:47.032731Z",
     "start_time": "2021-04-26T12:25:46.166106Z"
    }
   },
   "outputs": [
    {
     "data": {
      "text/plain": [
       "<matplotlib.legend.Legend at 0x2155c59a070>"
      ]
     },
     "execution_count": 179,
     "metadata": {},
     "output_type": "execute_result"
    },
    {
     "data": {
      "image/png": "[encoded data removed]",
      "text/plain": [
       "<Figure size 648x648 with 1 Axes>"
      ]
     },
     "metadata": {},
     "output_type": "display_data"
    }
   ],
   "source": [
    "# Make a pie chart that shows the division of \"Amount Issued\" over all the different sectors present in the merged_sector_data dateframe\n",
    "merged_sector_data[\"Amount Issued (USD)\"] = pd.to_numeric(merged_sector_data[\"Amount Issued (USD)\"], errors='raise', downcast=None)\n",
    "\n",
    "import matplotlib.pyplot as plt # TODO: add to requirements\n",
    "fig = plt.figure(figsize=(9,9))\n",
    "ax = plt.subplot(111)\n",
    "\n",
    "merged_sector_data.groupby(['Sector']).sum().plot(kind='pie', y='Amount Issued (USD)', ax=ax, autopct='%1.1f%%', fontsize=12, legend=False)\n",
    "fig.legend(loc=\"right\")"
   ]
  },
  {
   "cell_type": "code",
   "execution_count": null,
   "metadata": {},
   "outputs": [],
   "source": []
  },
  {
   "cell_type": "code",
   "execution_count": null,
   "metadata": {},
   "outputs": [],
   "source": []
  }
 ],
 "metadata": {
  "hide_input": false,
  "kernelspec": {
   "display_name": "Python 3",
   "language": "python",
   "name": "python3"
  },
  "language_info": {
   "codemirror_mode": {
    "name": "ipython",
    "version": 3
   },
   "file_extension": ".py",
   "mimetype": "text/x-python",
   "name": "python",
   "nbconvert_exporter": "python",
   "pygments_lexer": "ipython3",
   "version": "3.8.5"
  },
  "metadata": {
   "interpreter": {
    "hash": "c66e68dc8effbb73dddbef0493505d10f36de5f905f8b8ed3ac14ee9c27e255b"
   }
  },
  "toc": {
   "base_numbering": 1,
   "nav_menu": {},
   "number_sections": true,
   "sideBar": true,
   "skip_h1_title": false,
   "title_cell": "Table of Contents",
   "title_sidebar": "Contents",
   "toc_cell": false,
   "toc_position": {},
   "toc_section_display": true,
   "toc_window_display": false
  },
  "varInspector": {
   "cols": {
    "lenName": 16,
    "lenType": 16,
    "lenVar": 40
   },
   "kernels_config": {
    "python": {
     "delete_cmd_postfix": "",
     "delete_cmd_prefix": "del ",
     "library": "var_list.py",
     "varRefreshCmd": "print(var_dic_list())"
    },
    "r": {
     "delete_cmd_postfix": ") ",
     "delete_cmd_prefix": "rm(",
     "library": "var_list.r",
     "varRefreshCmd": "cat(var_dic_list()) "
    }
   },
   "types_to_exclude": [
    "module",
    "function",
    "builtin_function_or_method",
    "instance",
    "_Feature"
   ],
   "window_display": false
  }
 },
 "nbformat": 4,
 "nbformat_minor": 4
}
