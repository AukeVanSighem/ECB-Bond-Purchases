{
 "cells": [
  {
   "cell_type": "code",
   "execution_count": null,
   "metadata": {
    "ExecuteTime": {
     "end_time": "2021-05-24T16:59:01.988294Z",
     "start_time": "2021-05-24T16:58:47.099471Z"
    },
    "scrolled": true
   },
   "outputs": [],
   "source": [
    "# List of modules that are not installed in the course\n",
    "!pip install OpenPermID\n",
    "!pip install geocoder\n",
    "!pip install matplotlib\n",
    "!pip install xlrd==1.2.0\n",
    "!pip install xlsxwriter\n",
    "!pip install sklearn\n",
    "!pip install ipywidgets"
   ]
  },
  {
   "cell_type": "code",
   "execution_count": null,
   "metadata": {
    "ExecuteTime": {
     "end_time": "2021-05-24T17:09:14.872036Z",
     "start_time": "2021-05-24T17:09:14.227133Z"
    }
   },
   "outputs": [],
   "source": [
    "import pandas as pd\n",
    "import numpy as np\n",
    "import matplotlib.pyplot as plt\n",
    "import re"
   ]
  },
  {
   "cell_type": "markdown",
   "metadata": {},
   "source": [
    "# Downloading all bonds ever owned in CSPP"
   ]
  },
  {
   "cell_type": "code",
   "execution_count": null,
   "metadata": {
    "ExecuteTime": {
     "end_time": "2021-05-24T17:09:15.029048Z",
     "start_time": "2021-05-24T17:09:14.875034Z"
    }
   },
   "outputs": [],
   "source": [
    "from functions import downloadECBBonds"
   ]
  },
  {
   "cell_type": "code",
   "execution_count": null,
   "metadata": {
    "ExecuteTime": {
     "end_time": "2021-05-24T17:09:15.061054Z",
     "start_time": "2021-05-24T17:09:15.033049Z"
    }
   },
   "outputs": [],
   "source": [
    "holdingsECB = downloadECBBonds.download_ECB_Bonds()"
   ]
  },
  {
   "cell_type": "markdown",
   "metadata": {
    "hide_input": false
   },
   "source": [
    "# Read all the Eikon data"
   ]
  },
  {
   "cell_type": "code",
   "execution_count": null,
   "metadata": {
    "ExecuteTime": {
     "end_time": "2021-05-24T17:09:15.685111Z",
     "start_time": "2021-05-24T17:09:15.624097Z"
    }
   },
   "outputs": [],
   "source": [
    "from functions import readEikonData\n",
    "eikon_data_complete = readEikonData.get_eikon_data_complete()\n",
    "eligible_complete = readEikonData.get_data_eligible_complete() # read all data from eligible universe"
   ]
  },
  {
   "cell_type": "markdown",
   "metadata": {},
   "source": [
    "Compare how many bonds from the eligible universe the ECB bought."
   ]
  },
  {
   "cell_type": "code",
   "execution_count": null,
   "metadata": {
    "ExecuteTime": {
     "end_time": "2021-05-24T17:09:15.701111Z",
     "start_time": "2021-05-24T17:09:15.688110Z"
    },
    "scrolled": true
   },
   "outputs": [],
   "source": [
    "overlap = eikon_data_complete[(eikon_data_complete[\"ISIN\"].isin(eligible_complete[\"ISIN\"]))]\n",
    "print(\"the percentage of bonds bought by ECB in eligible universe that we have info on:    \", \n",
    "      overlap.shape[0]/eligible_complete.shape[0])"
   ]
  },
  {
   "cell_type": "markdown",
   "metadata": {},
   "source": [
    "Read the dates"
   ]
  },
  {
   "cell_type": "code",
   "execution_count": null,
   "metadata": {
    "ExecuteTime": {
     "end_time": "2021-05-24T17:09:15.877129Z",
     "start_time": "2021-05-24T17:09:15.704112Z"
    }
   },
   "outputs": [],
   "source": [
    "years_issuer_bought = readEikonData.get_dates_data_frame()"
   ]
  },
  {
   "cell_type": "markdown",
   "metadata": {
    "heading_collapsed": true
   },
   "source": [
    "# ECB green bonds that are listed on Euronext stock exchange "
   ]
  },
  {
   "source": [
    "Comparing Euronext vs EIKON data completeness for greenbonds"
   ],
   "cell_type": "markdown",
   "metadata": {}
  },
  {
   "cell_type": "code",
   "execution_count": 1,
   "metadata": {},
   "outputs": [
    {
     "output_type": "stream",
     "name": "stdout",
     "text": [
      "Euronext greenbonds: 65 vs EIKON greenbonds: 117\n"
     ]
    }
   ],
   "source": [
    "from functions import greenbonds\n",
    "greenbonds.compareGreenbondsEuronextvsEIKON()"
   ]
  },
  {
   "cell_type": "code",
   "execution_count": null,
   "metadata": {},
   "outputs": [],
   "source": [
    "greenbonds.get_percentages_greenbonds_on_bonds_per_year()"
   ]
  },
  {
   "source": [
    "Plot of percentages of greenbonds the ECB bought in comparison to all other bonds "
   ],
   "cell_type": "markdown",
   "metadata": {}
  },
  {
   "cell_type": "code",
   "execution_count": null,
   "metadata": {},
   "outputs": [],
   "source": [
    "greenbonds.draw_spaghetti_plot_greenbonds()"
   ]
  },
  {
   "cell_type": "markdown",
   "metadata": {},
   "source": [
    "# Company Analysis based on ESG scores"
   ]
  },
  {
   "cell_type": "markdown",
   "metadata": {},
   "source": [
    "Function for cleaning the ESG data"
   ]
  },
  {
   "cell_type": "code",
   "execution_count": null,
   "metadata": {
    "ExecuteTime": {
     "end_time": "2021-05-24T17:09:21.606516Z",
     "start_time": "2021-05-24T17:09:20.267396Z"
    }
   },
   "outputs": [],
   "source": [
    "from functions import ESG\n",
    "print(\"for eligible universe:\")\n",
    "esg_company_data_eligible = ESG.cleaning_esg_data(eligible_complete)\n",
    "print(\"for holdings in the CSPP:\")\n",
    "esg_company_data_holdings = ESG.cleaning_esg_data(eikon_data_complete)"
   ]
  },
  {
   "cell_type": "markdown",
   "metadata": {},
   "source": [
    "## ESG Evolution of holdings through the years"
   ]
  },
  {
   "cell_type": "code",
   "execution_count": null,
   "metadata": {
    "ExecuteTime": {
     "end_time": "2021-05-24T17:09:23.119581Z",
     "start_time": "2021-05-24T17:09:22.930571Z"
    }
   },
   "outputs": [],
   "source": [
    "ESG.average_company_esg_score_plot(years_issuer_bought, esg_company_data_holdings,esg_company_data_eligible)"
   ]
  },
  {
   "cell_type": "markdown",
   "metadata": {
    "heading_collapsed": true
   },
   "source": [
    "# Sector Analysis"
   ]
  },
  {
   "cell_type": "markdown",
   "metadata": {
    "heading_collapsed": true,
    "hidden": true
   },
   "source": [
    "## Get all sector data from PermID"
   ]
  },
  {
   "cell_type": "code",
   "execution_count": null,
   "metadata": {
    "ExecuteTime": {
     "end_time": "2021-05-24T17:09:16.084144Z",
     "start_time": "2021-05-24T17:09:15.879127Z"
    }
   },
   "outputs": [],
   "source": [
    "from functions import permidSectors\n",
    "sector_mappings = permidSectors.get_sector_mappings(holdingsECB)\n",
    "sector_mappings.dropna(inplace = True)"
   ]
  },
  {
   "cell_type": "markdown",
   "metadata": {
    "heading_collapsed": true,
    "hidden": true
   },
   "source": [
    "## Represent industries and sectors"
   ]
  },
  {
   "cell_type": "markdown",
   "metadata": {
    "hidden": true
   },
   "source": [
    "Create a pie chart to represent the number of times an industry, sector or supersector is present in the data (multiple bonds for the same company are counted separately)"
   ]
  },
  {
   "cell_type": "code",
   "execution_count": null,
   "metadata": {
    "ExecuteTime": {
     "end_time": "2021-05-24T17:09:16.100145Z",
     "start_time": "2021-05-24T17:09:16.088145Z"
    }
   },
   "outputs": [],
   "source": [
    "from functions import pieCharts"
   ]
  },
  {
   "cell_type": "code",
   "execution_count": null,
   "metadata": {
    "ExecuteTime": {
     "end_time": "2021-05-24T17:09:16.643694Z",
     "start_time": "2021-05-24T17:09:16.103144Z"
    },
    "hidden": true
   },
   "outputs": [],
   "source": [
    "pieCharts.make_pie_chart('hasPrimaryBusinessSector', sector_mappings)"
   ]
  },
  {
   "cell_type": "code",
   "execution_count": null,
   "metadata": {
    "ExecuteTime": {
     "end_time": "2021-05-24T17:09:16.882709Z",
     "start_time": "2021-05-24T17:09:16.646697Z"
    },
    "hidden": true
   },
   "outputs": [],
   "source": [
    "pieCharts.make_pie_chart('hasPrimaryEconomicSector', sector_mappings)"
   ]
  },
  {
   "cell_type": "code",
   "execution_count": null,
   "metadata": {
    "ExecuteTime": {
     "end_time": "2021-05-24T17:09:18.095698Z",
     "start_time": "2021-05-24T17:09:16.885711Z"
    },
    "hidden": true
   },
   "outputs": [],
   "source": [
    "pieCharts.make_pie_chart('hasPrimaryIndustryGroup', sector_mappings)"
   ]
  },
  {
   "cell_type": "markdown",
   "metadata": {
    "heading_collapsed": true,
    "hidden": true
   },
   "source": [
    "## Which industries and sectors are green?"
   ]
  },
  {
   "cell_type": "markdown",
   "metadata": {
    "hidden": true
   },
   "source": [
    "Map the dictionary with greenness of all PermID sectors with the ones in which ECB invested\n",
    "\n"
   ]
  },
  {
   "cell_type": "code",
   "execution_count": null,
   "metadata": {
    "ExecuteTime": {
     "end_time": "2021-05-24T17:09:18.126703Z",
     "start_time": "2021-05-24T17:09:18.098704Z"
    }
   },
   "outputs": [],
   "source": [
    "from functions import sectors\n",
    "sector_green_dict = sectors.get_sector_green_dict()\n",
    "\n",
    "primary_business_sector = pieCharts.get_all_sectors(\"hasPrimaryBusinessSector\", sector_mappings)\n",
    "primary_business_sector = sectors.map_green_dict_to_data_frame(primary_business_sector)\n",
    "sector_mappings[\"Greenness\"] = sector_mappings[\"hasPrimaryBusinessSector\"].dropna().apply(lambda x: sector_green_dict[x])\n",
    "\n",
    "sectors.set_global_sector_variables(primary_business_sector, sector_mappings, years_issuer_bought)"
   ]
  },
  {
   "cell_type": "code",
   "execution_count": null,
   "metadata": {
    "ExecuteTime": {
     "end_time": "2021-05-24T17:09:20.264400Z",
     "start_time": "2021-05-24T17:09:19.915852Z"
    }
   },
   "outputs": [],
   "source": [
    "# Drawing a sphagetti plot by grouping sectors according to greenness\n",
    "green_dict = {-1: \"Less green\", 0: \"Neutral\", 1: \"More green\"}\n",
    "sector_mappings_modified = sector_mappings.copy()\n",
    "sector_mappings_modified[\"hasPrimaryBusinessSector\"] = sector_mappings_modified.Greenness.apply(lambda x: green_dict[x])\n",
    "levels_of_greenness = pieCharts.get_all_sectors(\"hasPrimaryBusinessSector\", sector_mappings_modified)\n",
    "levels_of_greenness = sectors.map_green_dict_to_data_frame(levels_of_greenness)\n",
    "sectors.draw_spaghetti_plot_sectors(levels_of_greenness, sector_mappings_modified, years_issuer_bought, title = \"greenness groups\")"
   ]
  },
  {
   "cell_type": "code",
   "execution_count": null,
   "metadata": {},
   "outputs": [],
   "source": [
    "sectors.display_widget()"
   ]
  },
  {
   "cell_type": "code",
   "execution_count": null,
   "metadata": {},
   "outputs": [],
   "source": []
  }
 ],
 "metadata": {
  "hide_input": false,
  "kernelspec": {
   "name": "python393jvsc74a57bd0e9bfc0068f9a8fe9ede836b732582cae4a897f37d502f80037daf4f236664b3b",
   "display_name": "Python 3.9.3 64-bit"
  },
  "language_info": {
   "codemirror_mode": {
    "name": "ipython",
    "version": 3
   },
   "file_extension": ".py",
   "mimetype": "text/x-python",
   "name": "python",
   "nbconvert_exporter": "python",
   "pygments_lexer": "ipython3",
   "version": "3.9.3"
  },
  "metadata": {
   "interpreter": {
    "hash": "0147698525bcb733386c31960f977cdb329b1e4f8ea13a51aa738d8c23e0432f"
   }
  },
  "toc": {
   "base_numbering": 1,
   "nav_menu": {},
   "number_sections": true,
   "sideBar": true,
   "skip_h1_title": false,
   "title_cell": "Table of Contents",
   "title_sidebar": "Contents",
   "toc_cell": false,
   "toc_position": {},
   "toc_section_display": true,
   "toc_window_display": false
  },
  "varInspector": {
   "cols": {
    "lenName": 16,
    "lenType": 16,
    "lenVar": 40
   },
   "kernels_config": {
    "python": {
     "delete_cmd_postfix": "",
     "delete_cmd_prefix": "del ",
     "library": "var_list.py",
     "varRefreshCmd": "print(var_dic_list())"
    },
    "r": {
     "delete_cmd_postfix": ") ",
     "delete_cmd_prefix": "rm(",
     "library": "var_list.r",
     "varRefreshCmd": "cat(var_dic_list()) "
    }
   },
   "oldHeight": 277.4,
   "position": {
    "height": "299.4px",
    "left": "971.4px",
    "right": "20px",
    "top": "98px",
    "width": "493px"
   },
   "types_to_exclude": [
    "module",
    "function",
    "builtin_function_or_method",
    "instance",
    "_Feature"
   ],
   "varInspector_section_display": "block",
   "window_display": false
  }
 },
 "nbformat": 4,
 "nbformat_minor": 4
}