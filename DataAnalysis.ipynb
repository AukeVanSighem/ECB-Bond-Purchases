{
 "cells": [
  {
   "cell_type": "code",
   "execution_count": 1,
   "metadata": {},
   "outputs": [],
   "source": [
    "import pandas as pd\n",
    "import re"
   ]
  },
  {
   "cell_type": "markdown",
   "metadata": {},
   "source": [
    "# Which bonds are green?"
   ]
  },
  {
   "cell_type": "code",
   "execution_count": 2,
   "metadata": {},
   "outputs": [
    {
     "output_type": "execute_result",
     "data": {
      "text/plain": [
       "     NCB          ISIN                        ISSUER MATURITY DATE COUPON RATE\n",
       "0     BE  BE0002239086     Elia Transmission Belgium    27/05/2024       1.375\n",
       "1     BE  BE0002256254                   Enodia SCRL    22/07/2026           1\n",
       "2     BE  BE0002276450     Elia Transmission Belgium    07/04/2027       1.375\n",
       "3     BE  BE0002280494   Groupe Bruxelles Lambert SA    23/05/2024       1.375\n",
       "4     BE  BE0002285543  Fluvius System Operator CVBA    23/06/2025           2\n",
       "...   ..           ...                           ...           ...         ...\n",
       "1637  IT  XS2292487076                   ACEA S.p.A.    28/07/2030        0.25\n",
       "1638  IT  XS2292547317            2i Rete Gas S.p.A.    29/01/2031       0.579\n",
       "1639  IT  XS2299001888                Italgas S.P.A.    16/02/2028           0\n",
       "1640  IT  XS2299002423                Italgas S.P.A.    16/02/2033         0.5\n",
       "1641  IT  XS2300208928                   Snam S.p.A.    15/08/2025           0\n",
       "\n",
       "[1642 rows x 5 columns]"
      ],
      "text/html": "<div>\n<style scoped>\n    .dataframe tbody tr th:only-of-type {\n        vertical-align: middle;\n    }\n\n    .dataframe tbody tr th {\n        vertical-align: top;\n    }\n\n    .dataframe thead th {\n        text-align: right;\n    }\n</style>\n<table border=\"1\" class=\"dataframe\">\n  <thead>\n    <tr style=\"text-align: right;\">\n      <th></th>\n      <th>NCB</th>\n      <th>ISIN</th>\n      <th>ISSUER</th>\n      <th>MATURITY DATE</th>\n      <th>COUPON RATE</th>\n    </tr>\n  </thead>\n  <tbody>\n    <tr>\n      <td>0</td>\n      <td>BE</td>\n      <td>BE0002239086</td>\n      <td>Elia Transmission Belgium</td>\n      <td>27/05/2024</td>\n      <td>1.375</td>\n    </tr>\n    <tr>\n      <td>1</td>\n      <td>BE</td>\n      <td>BE0002256254</td>\n      <td>Enodia SCRL</td>\n      <td>22/07/2026</td>\n      <td>1</td>\n    </tr>\n    <tr>\n      <td>2</td>\n      <td>BE</td>\n      <td>BE0002276450</td>\n      <td>Elia Transmission Belgium</td>\n      <td>07/04/2027</td>\n      <td>1.375</td>\n    </tr>\n    <tr>\n      <td>3</td>\n      <td>BE</td>\n      <td>BE0002280494</td>\n      <td>Groupe Bruxelles Lambert SA</td>\n      <td>23/05/2024</td>\n      <td>1.375</td>\n    </tr>\n    <tr>\n      <td>4</td>\n      <td>BE</td>\n      <td>BE0002285543</td>\n      <td>Fluvius System Operator CVBA</td>\n      <td>23/06/2025</td>\n      <td>2</td>\n    </tr>\n    <tr>\n      <td>...</td>\n      <td>...</td>\n      <td>...</td>\n      <td>...</td>\n      <td>...</td>\n      <td>...</td>\n    </tr>\n    <tr>\n      <td>1637</td>\n      <td>IT</td>\n      <td>XS2292487076</td>\n      <td>ACEA S.p.A.</td>\n      <td>28/07/2030</td>\n      <td>0.25</td>\n    </tr>\n    <tr>\n      <td>1638</td>\n      <td>IT</td>\n      <td>XS2292547317</td>\n      <td>2i Rete Gas S.p.A.</td>\n      <td>29/01/2031</td>\n      <td>0.579</td>\n    </tr>\n    <tr>\n      <td>1639</td>\n      <td>IT</td>\n      <td>XS2299001888</td>\n      <td>Italgas S.P.A.</td>\n      <td>16/02/2028</td>\n      <td>0</td>\n    </tr>\n    <tr>\n      <td>1640</td>\n      <td>IT</td>\n      <td>XS2299002423</td>\n      <td>Italgas S.P.A.</td>\n      <td>16/02/2033</td>\n      <td>0.5</td>\n    </tr>\n    <tr>\n      <td>1641</td>\n      <td>IT</td>\n      <td>XS2300208928</td>\n      <td>Snam S.p.A.</td>\n      <td>15/08/2025</td>\n      <td>0</td>\n    </tr>\n  </tbody>\n</table>\n<p>1642 rows × 5 columns</p>\n</div>"
     },
     "metadata": {},
     "execution_count": 2
    }
   ],
   "source": [
    "# reading data of which bonds are held by ECB at 2nd of april 2021\n",
    "holdings20210402 = pd.read_csv(\"data/CSPP_PEPP_corporate_bond_holdings_20210402.csv\", header=0, encoding='latin-1')\n",
    "holdings20210402"
   ]
  },
  {
   "cell_type": "code",
   "execution_count": 3,
   "metadata": {},
   "outputs": [
    {
     "output_type": "execute_result",
     "data": {
      "text/plain": [
       "                    Green Bond issuer      Country  \\\n",
       "0                     ABN AMRO (2015)  Netherlands   \n",
       "1                     ABN AMRO (2016)  Netherlands   \n",
       "2    AC Energy Finance Supra-national  Philippines   \n",
       "3                          Acea S.p.A        Italy   \n",
       "4                             ACS SCE        Spain   \n",
       "..                                ...          ...   \n",
       "610                       Yango Group        China   \n",
       "611                      YES BANK Ltd        India   \n",
       "612                Ygrene Energy Fund           US   \n",
       "613       Zürcher Kantonalbank (2018)  Switzerland   \n",
       "614       Zürcher Kantonalbank (2019)  Switzerland   \n",
       "\n",
       "    Market Information Template               External Review Form  \\\n",
       "0                           NaN                                NaN   \n",
       "1                           NaN                                NaN   \n",
       "2                           NaN  Appendix to Sustainalytics report   \n",
       "3                           NaN                                NaN   \n",
       "4                    April 2018                                NaN   \n",
       "..                          ...                                ...   \n",
       "610                         NaN  Appendix to Sustainalytics report   \n",
       "611              September 2016                               KPMG   \n",
       "612                         NaN  Appendix to Sustainalytics report   \n",
       "613                  April 2018                     oekom research   \n",
       "614                         NaN                                NaN   \n",
       "\n",
       "    External Review Report  \\\n",
       "0           oekom research   \n",
       "1           oekom research   \n",
       "2           SUSTAINALYTICS   \n",
       "3                  ISS ESG   \n",
       "4              VIGEO EIRIS   \n",
       "..                     ...   \n",
       "610         SUSTAINALYTICS   \n",
       "611                   KPMG   \n",
       "612         SUSTAINALYTICS   \n",
       "613         oekom research   \n",
       "614              ISS-oekom   \n",
       "\n",
       "    External links (NB: Please use the links for most up to date information)  \\\n",
       "0    https://www.abnamro.com/en/investor-relations/...                          \n",
       "1    https://www.abnamro.com/en/investor-relations/...                          \n",
       "2          https://www.acenergy.com.ph/sustainability/                          \n",
       "3               https://www.gruppo.acea.it/investitori                          \n",
       "4                             http://acsindustria.com/                          \n",
       "..                                                 ...                          \n",
       "610  http://www.yango.com.cn/index.php/Ch/Cms/Inves...                          \n",
       "611  https://www.yesbank.in/annual-reports/fy-2015-...                          \n",
       "612  http://www.sustainalytics.com/sustainability-b...                          \n",
       "613  https://www.zkb.ch/de/uu/nb/investor-relations...                          \n",
       "614  https://www.zkb.ch/de/uu/nb/investor-relations...                          \n",
       "\n",
       "     Unnamed: 6  Unnamed: 7  \n",
       "0           NaN         NaN  \n",
       "1           NaN         NaN  \n",
       "2           NaN         NaN  \n",
       "3           NaN         NaN  \n",
       "4           NaN         NaN  \n",
       "..          ...         ...  \n",
       "610         NaN         NaN  \n",
       "611         NaN         NaN  \n",
       "612         NaN         NaN  \n",
       "613         NaN         NaN  \n",
       "614         NaN         NaN  \n",
       "\n",
       "[615 rows x 8 columns]"
      ],
      "text/html": "<div>\n<style scoped>\n    .dataframe tbody tr th:only-of-type {\n        vertical-align: middle;\n    }\n\n    .dataframe tbody tr th {\n        vertical-align: top;\n    }\n\n    .dataframe thead th {\n        text-align: right;\n    }\n</style>\n<table border=\"1\" class=\"dataframe\">\n  <thead>\n    <tr style=\"text-align: right;\">\n      <th></th>\n      <th>Green Bond issuer</th>\n      <th>Country</th>\n      <th>Market Information Template</th>\n      <th>External Review Form</th>\n      <th>External Review Report</th>\n      <th>External links (NB: Please use the links for most up to date information)</th>\n      <th>Unnamed: 6</th>\n      <th>Unnamed: 7</th>\n    </tr>\n  </thead>\n  <tbody>\n    <tr>\n      <td>0</td>\n      <td>ABN AMRO (2015)</td>\n      <td>Netherlands</td>\n      <td>NaN</td>\n      <td>NaN</td>\n      <td>oekom research</td>\n      <td>https://www.abnamro.com/en/investor-relations/...</td>\n      <td>NaN</td>\n      <td>NaN</td>\n    </tr>\n    <tr>\n      <td>1</td>\n      <td>ABN AMRO (2016)</td>\n      <td>Netherlands</td>\n      <td>NaN</td>\n      <td>NaN</td>\n      <td>oekom research</td>\n      <td>https://www.abnamro.com/en/investor-relations/...</td>\n      <td>NaN</td>\n      <td>NaN</td>\n    </tr>\n    <tr>\n      <td>2</td>\n      <td>AC Energy Finance Supra-national</td>\n      <td>Philippines</td>\n      <td>NaN</td>\n      <td>Appendix to Sustainalytics report</td>\n      <td>SUSTAINALYTICS</td>\n      <td>https://www.acenergy.com.ph/sustainability/</td>\n      <td>NaN</td>\n      <td>NaN</td>\n    </tr>\n    <tr>\n      <td>3</td>\n      <td>Acea S.p.A</td>\n      <td>Italy</td>\n      <td>NaN</td>\n      <td>NaN</td>\n      <td>ISS ESG</td>\n      <td>https://www.gruppo.acea.it/investitori</td>\n      <td>NaN</td>\n      <td>NaN</td>\n    </tr>\n    <tr>\n      <td>4</td>\n      <td>ACS SCE</td>\n      <td>Spain</td>\n      <td>April 2018</td>\n      <td>NaN</td>\n      <td>VIGEO EIRIS</td>\n      <td>http://acsindustria.com/</td>\n      <td>NaN</td>\n      <td>NaN</td>\n    </tr>\n    <tr>\n      <td>...</td>\n      <td>...</td>\n      <td>...</td>\n      <td>...</td>\n      <td>...</td>\n      <td>...</td>\n      <td>...</td>\n      <td>...</td>\n      <td>...</td>\n    </tr>\n    <tr>\n      <td>610</td>\n      <td>Yango Group</td>\n      <td>China</td>\n      <td>NaN</td>\n      <td>Appendix to Sustainalytics report</td>\n      <td>SUSTAINALYTICS</td>\n      <td>http://www.yango.com.cn/index.php/Ch/Cms/Inves...</td>\n      <td>NaN</td>\n      <td>NaN</td>\n    </tr>\n    <tr>\n      <td>611</td>\n      <td>YES BANK Ltd</td>\n      <td>India</td>\n      <td>September 2016</td>\n      <td>KPMG</td>\n      <td>KPMG</td>\n      <td>https://www.yesbank.in/annual-reports/fy-2015-...</td>\n      <td>NaN</td>\n      <td>NaN</td>\n    </tr>\n    <tr>\n      <td>612</td>\n      <td>Ygrene Energy Fund</td>\n      <td>US</td>\n      <td>NaN</td>\n      <td>Appendix to Sustainalytics report</td>\n      <td>SUSTAINALYTICS</td>\n      <td>http://www.sustainalytics.com/sustainability-b...</td>\n      <td>NaN</td>\n      <td>NaN</td>\n    </tr>\n    <tr>\n      <td>613</td>\n      <td>Zürcher Kantonalbank (2018)</td>\n      <td>Switzerland</td>\n      <td>April 2018</td>\n      <td>oekom research</td>\n      <td>oekom research</td>\n      <td>https://www.zkb.ch/de/uu/nb/investor-relations...</td>\n      <td>NaN</td>\n      <td>NaN</td>\n    </tr>\n    <tr>\n      <td>614</td>\n      <td>Zürcher Kantonalbank (2019)</td>\n      <td>Switzerland</td>\n      <td>NaN</td>\n      <td>NaN</td>\n      <td>ISS-oekom</td>\n      <td>https://www.zkb.ch/de/uu/nb/investor-relations...</td>\n      <td>NaN</td>\n      <td>NaN</td>\n    </tr>\n  </tbody>\n</table>\n<p>615 rows × 8 columns</p>\n</div>"
     },
     "metadata": {},
     "execution_count": 3
    }
   ],
   "source": [
    "# reading data of all green bonds in the world (ICMA - 06 april 2021)\n",
    "greenBonds = pd.read_csv(\"data/ICMA-Sustainable-Bonds-Database-060421.csv\", delimiter=\";\", encoding=\"latin-1\")\n",
    "greenBonds"
   ]
  },
  {
   "cell_type": "code",
   "execution_count": 4,
   "metadata": {},
   "outputs": [],
   "source": [
    "# generate lists of all companies that have green bonds owned by ECB and all companies that have non-green bonds owned by ECB\n",
    "companiesECBSet = set(holdings20210402[\"ISSUER\"].tolist()) # set of companies with bonds owned by ECB\n",
    "greenBondsCompaniesSet = set(greenBonds[\"Green Bond issuer\"].tolist()) # set of companies with green bonds\n",
    "greenCompanies = [] # this list will hold all companies with green bonds owned by ECB\n",
    "for company in companiesECBSet:\n",
    "    for greenBondCompany in greenBondsCompaniesSet:\n",
    "        # Here, regex are used because names don't exactly match\n",
    "        if (re.search(\".*\"+greenBondCompany+\".*\", company) or re.search(\".*\"+company+\".*\",greenBondCompany)):\n",
    "            greenCompanies.append(company)"
   ]
  }
 ],
 "metadata": {
  "kernelspec": {
   "name": "python374jvsc74a57bd0b781e955ad6768a11149508a3b2245abe77103988d8947a870ad8dd6cfef4cbb",
   "display_name": "Python 3.7.4 64-bit (conda)"
  },
  "language_info": {
   "codemirror_mode": {
    "name": "ipython",
    "version": 3
   },
   "file_extension": ".py",
   "mimetype": "text/x-python",
   "name": "python",
   "nbconvert_exporter": "python",
   "pygments_lexer": "ipython3",
   "version": "3.7.4-final"
  },
  "varInspector": {
   "cols": {
    "lenName": 16,
    "lenType": 16,
    "lenVar": 40
   },
   "kernels_config": {
    "python": {
     "delete_cmd_postfix": "",
     "delete_cmd_prefix": "del ",
     "library": "var_list.py",
     "varRefreshCmd": "print(var_dic_list())"
    },
    "r": {
     "delete_cmd_postfix": ") ",
     "delete_cmd_prefix": "rm(",
     "library": "var_list.r",
     "varRefreshCmd": "cat(var_dic_list()) "
    }
   },
   "types_to_exclude": [
    "module",
    "function",
    "builtin_function_or_method",
    "instance",
    "_Feature"
   ],
   "window_display": false
  }
 },
 "nbformat": 4,
 "nbformat_minor": 4
}