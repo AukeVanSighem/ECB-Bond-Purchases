{
 "cells": [
  {
   "cell_type": "code",
   "execution_count": null,
   "metadata": {
    "ExecuteTime": {
     "end_time": "2021-05-13T18:37:55.907195Z",
     "start_time": "2021-05-13T18:37:46.814492Z"
    },
    "scrolled": true
   },
   "outputs": [],
   "source": [
    "# List of modules that are not installed in the course\n",
    "!pip install OpenPermID\n",
    "!pip install geocoder"
   ]
  },
  {
   "cell_type": "code",
   "execution_count": null,
   "metadata": {
    "ExecuteTime": {
     "end_time": "2021-05-13T18:37:57.778274Z",
     "start_time": "2021-05-13T18:37:55.910197Z"
    }
   },
   "outputs": [],
   "source": [
    "import pandas as pd\n",
    "import numpy as np\n",
    "import matplotlib.pyplot as plt\n",
    "import re"
   ]
  },
  {
   "cell_type": "markdown",
   "metadata": {},
   "source": [
    "# Downloading all bonds ever owned in CSPP"
   ]
  },
  {
   "cell_type": "code",
   "execution_count": null,
   "metadata": {
    "ExecuteTime": {
     "end_time": "2021-05-13T18:37:57.918284Z",
     "start_time": "2021-05-13T18:37:57.781276Z"
    }
   },
   "outputs": [],
   "source": [
    "from functions import downloadECBBonds"
   ]
  },
  {
   "cell_type": "code",
   "execution_count": null,
   "metadata": {},
   "outputs": [],
   "source": [
    "holdingsECB = downloadECBBonds.download_ECB_Bonds()"
   ]
  },
  {
   "cell_type": "markdown",
   "metadata": {
    "heading_collapsed": true
   },
   "source": [
    "# ECB green bonds that are listed on Euronext stock exchange "
   ]
  },
  {
   "cell_type": "markdown",
   "metadata": {},
   "source": [
    "TODO: make 1 function in .py file"
   ]
  },
  {
   "cell_type": "code",
   "execution_count": null,
   "metadata": {
    "ExecuteTime": {
     "end_time": "2021-05-13T18:38:21.263673Z",
     "start_time": "2021-05-13T18:37:46.859Z"
    },
    "hidden": true
   },
   "outputs": [],
   "source": [
    "#reading data of green bonds listed on Euronext \n",
    "euronext_greenbonds = pd.read_excel(\"data/Euronext-Green-Bond-List.xlsx\", header=0)\n",
    "euronext_greenbonds"
   ]
  },
  {
   "cell_type": "code",
   "execution_count": null,
   "metadata": {
    "ExecuteTime": {
     "end_time": "2021-05-13T18:38:21.265675Z",
     "start_time": "2021-05-13T18:37:46.863Z"
    },
    "hidden": true,
    "scrolled": true
   },
   "outputs": [],
   "source": [
    "#Getting the ISIN of the Euronext green bonds \n",
    "euronext_greenbond_isin = euronext_greenbonds[\"ISIN\"]\n",
    "euronext_greenbond_isin"
   ]
  },
  {
   "cell_type": "code",
   "execution_count": null,
   "metadata": {
    "ExecuteTime": {
     "end_time": "2021-05-13T18:38:21.267675Z",
     "start_time": "2021-05-13T18:37:46.869Z"
    },
    "hidden": true
   },
   "outputs": [],
   "source": [
    "#Comparing the ISINs of the ECB and Euronext green bonds and returning matches \n",
    "ecbgreenbonds = holdingsECB[(holdingsECB[\"ISIN\"].isin(euronext_greenbond_isin))]\n",
    "ecbgreenbonds"
   ]
  },
  {
   "cell_type": "markdown",
   "metadata": {
    "hidden": true
   },
   "source": [
    "TODO: calculate percentage green before and after 2020"
   ]
  },
  {
   "cell_type": "markdown",
   "metadata": {
    "hide_input": false
   },
   "source": [
    "# Read all the Eikon data"
   ]
  },
  {
   "cell_type": "code",
   "execution_count": null,
   "metadata": {},
   "outputs": [],
   "source": [
    "from functions import readEikonData\n",
    "eikon_data_complete = readEikonData.get_eikon_data_complete()\n",
    "eligible_complete = readEikonData.get_data_eligible_complete() # read all data from eligible universe"
   ]
  },
  {
   "cell_type": "markdown",
   "metadata": {},
   "source": [
    "Compare how many bonds from the eligible universe the ECB bought."
   ]
  },
  {
   "cell_type": "code",
   "execution_count": null,
   "metadata": {
    "ExecuteTime": {
     "end_time": "2021-05-13T18:42:28.826044Z",
     "start_time": "2021-05-13T18:42:28.799045Z"
    },
    "scrolled": true
   },
   "outputs": [],
   "source": [
    "overlap = eikon_data_complete[(eikon_data_complete[\"ISIN\"].isin(eligible_complete[\"ISIN\"]))]\n",
    "print(\"the percentage of bonds bought by ECB in eligible universe that we have info on:    \", \n",
    "      overlap.shape[0]/eligible_complete.shape[0])"
   ]
  },
  {
   "cell_type": "markdown",
   "metadata": {},
   "source": [
    "__More companies mapped in Eikon database (370 vs 339), but more industries mapped in PermID database (313 vs 158).__\n",
    "TODO: Move this conclusion from the comparison between Eikon and PermID to a better place."
   ]
  },
  {
   "cell_type": "markdown",
   "metadata": {},
   "source": [
    "Read the dates"
   ]
  },
  {
   "cell_type": "code",
   "execution_count": null,
   "metadata": {},
   "outputs": [],
   "source": [
    "years_issuer_bought = readEikonData.get_dates_data_frame()"
   ]
  },
  {
   "cell_type": "markdown",
   "metadata": {
    "heading_collapsed": true
   },
   "source": [
    "# Sector Analysis"
   ]
  },
  {
   "cell_type": "markdown",
   "metadata": {
    "heading_collapsed": true,
    "hidden": true
   },
   "source": [
    "## Get all sector data from PermID"
   ]
  },
  {
   "cell_type": "code",
   "execution_count": null,
   "metadata": {},
   "outputs": [],
   "source": [
    "from functions import permidSectors\n",
    "sector_mappings = permidSectors.get_sector_mappings(holdingsECB)\n",
    "sector_mappings.count()"
   ]
  },
  {
   "cell_type": "markdown",
   "metadata": {
    "heading_collapsed": true,
    "hidden": true
   },
   "source": [
    "## Represent industries and sectors"
   ]
  },
  {
   "cell_type": "markdown",
   "metadata": {
    "hidden": true
   },
   "source": [
    "Create a pie chart to represent the number of times an industry, sector or supersector is present in the data (multiple bonds for the same company are counted separately)"
   ]
  },
  {
   "cell_type": "code",
   "execution_count": null,
   "metadata": {},
   "outputs": [],
   "source": [
    "from functions import pieCharts"
   ]
  },
  {
   "cell_type": "code",
   "execution_count": null,
   "metadata": {
    "ExecuteTime": {
     "end_time": "2021-05-13T21:43:18.403668Z",
     "start_time": "2021-05-13T21:43:17.824600Z"
    },
    "hidden": true
   },
   "outputs": [],
   "source": [
    "pieCharts.make_pie_chart('hasPrimaryBusinessSector', sector_mappings)"
   ]
  },
  {
   "cell_type": "code",
   "execution_count": null,
   "metadata": {
    "ExecuteTime": {
     "end_time": "2021-05-13T21:43:28.241473Z",
     "start_time": "2021-05-13T21:43:28.010945Z"
    },
    "hidden": true
   },
   "outputs": [],
   "source": [
    "pieCharts.make_pie_chart('hasPrimaryEconomicSector', sector_mappings)"
   ]
  },
  {
   "cell_type": "code",
   "execution_count": null,
   "metadata": {
    "ExecuteTime": {
     "end_time": "2021-05-13T21:43:40.722693Z",
     "start_time": "2021-05-13T21:43:40.461674Z"
    },
    "hidden": true
   },
   "outputs": [],
   "source": [
    "# make_pie_chart('hasPrimaryIndustryGroup') # TODO: Fix Error"
   ]
  },
  {
   "cell_type": "markdown",
   "metadata": {
    "heading_collapsed": true,
    "hidden": true
   },
   "source": [
    "## Which industries and sectors are green?"
   ]
  },
  {
   "cell_type": "markdown",
   "metadata": {
    "hidden": true
   },
   "source": [
    "Map the dictionary with greenness of all PermID sectors with the ones in which ECB invested\n",
    "\n"
   ]
  },
  {
   "cell_type": "code",
   "execution_count": null,
   "metadata": {},
   "outputs": [],
   "source": [
    "from functions import sectors\n",
    "sector_green_dict = sectors.get_sector_green_dict()"
   ]
  },
  {
   "cell_type": "code",
   "execution_count": null,
   "metadata": {
    "ExecuteTime": {
     "end_time": "2021-05-13T18:42:28.636031Z",
     "start_time": "2021-05-13T18:42:28.512023Z"
    },
    "hidden": true
   },
   "outputs": [],
   "source": [
    "primary_business_sector = pieCharts.get_all_sectors(\"hasPrimaryBusinessSector\", sector_mappings)\n",
    "\n",
    "primary_business_sector = sectors.map_green_dict_to_data_frame(primary_business_sector)\n",
    "print(primary_business_sector)\n",
    "\n",
    "primary_economic_sector = pieCharts.get_all_sectors(\"hasPrimaryEconomicSector\", sector_mappings)\n",
    "primary_economic_sector = sectors.map_green_dict_to_data_frame(primary_economic_sector)\n",
    "print(primary_economic_sector)"
   ]
  },
  {
   "cell_type": "markdown",
   "metadata": {},
   "source": [
    "TODO:\n",
    "- Total Count for each sector overall and compare these sectors (we view as “bad”, like cement, oil&gas or with kaggle dataset(emission))\n",
    "- Similar approach but per year → do we see a change in habit, total counts → differences in the sectors \n",
    "- For the sectors: make spaghetti plot with for each sector the percentage invested in every year (in app: select which sectors you want)\n",
    "    - Include in app (can view all, and have “buttons” to choose what to show) "
   ]
  },
  {
   "cell_type": "markdown",
   "metadata": {},
   "source": [
    "# Environmental Analysis"
   ]
  },
  {
   "cell_type": "markdown",
   "metadata": {
    "heading_collapsed": true
   },
   "source": [
    "## CO2 Data/Graphs"
   ]
  },
  {
   "cell_type": "markdown",
   "metadata": {
    "hidden": true
   },
   "source": [
    "(Maarten): I think everything here can be deleted, as we're not able to make a comparison between the holdings and the eligible universe"
   ]
  },
  {
   "cell_type": "markdown",
   "metadata": {
    "heading_collapsed": true,
    "hidden": true
   },
   "source": [
    "### Spaghetti plot CO$_2$"
   ]
  },
  {
   "cell_type": "code",
   "execution_count": null,
   "metadata": {},
   "outputs": [],
   "source": [
    "from functions import CO2\n",
    "CO2.make_CO2_spaghetti_plot()"
   ]
  },
  {
   "cell_type": "markdown",
   "metadata": {
    "heading_collapsed": true,
    "hidden": true
   },
   "source": [
    "### Histogram change in CO$_2$"
   ]
  },
  {
   "cell_type": "code",
   "execution_count": null,
   "metadata": {
    "ExecuteTime": {
     "end_time": "2021-05-13T18:42:29.972878Z",
     "start_time": "2021-05-13T18:42:29.361831Z"
    },
    "hidden": true,
    "scrolled": true
   },
   "outputs": [],
   "source": [
    "CO2.make_CO2_histogram()"
   ]
  },
  {
   "cell_type": "markdown",
   "metadata": {
    "heading_collapsed": true,
    "hidden": true
   },
   "source": [
    "### emission of 2021 as a function of the emission in 2015"
   ]
  },
  {
   "cell_type": "code",
   "execution_count": null,
   "metadata": {
    "ExecuteTime": {
     "end_time": "2021-05-13T18:42:30.284900Z",
     "start_time": "2021-05-13T18:42:29.980879Z"
    },
    "hidden": true,
    "scrolled": true
   },
   "outputs": [],
   "source": [
    "CO2.plot_2020_2015()"
   ]
  },
  {
   "cell_type": "markdown",
   "metadata": {
    "hidden": true
   },
   "source": [
    "Make a linear fit through for this graph (see github of course: data analytics > radient_descent)"
   ]
  },
  {
   "cell_type": "code",
   "execution_count": null,
   "metadata": {
    "ExecuteTime": {
     "end_time": "2021-05-13T18:42:34.985496Z",
     "start_time": "2021-05-13T18:42:30.290900Z"
    },
    "hidden": true
   },
   "outputs": [],
   "source": [
    "CO2.make_linear_fit()"
   ]
  },
  {
   "cell_type": "markdown",
   "metadata": {
    "hidden": true
   },
   "source": [
    "As the slope is slightly below one, we can conclude that in general, the normalized CO$_2$ emission decreases."
   ]
  },
  {
   "cell_type": "markdown",
   "metadata": {},
   "source": [
    "## ESG data/plots"
   ]
  },
  {
   "cell_type": "markdown",
   "metadata": {},
   "source": [
    "Function for cleaning the ESG data"
   ]
  },
  {
   "cell_type": "code",
   "execution_count": null,
   "metadata": {
    "ExecuteTime": {
     "end_time": "2021-05-13T18:42:35.410528Z",
     "start_time": "2021-05-13T18:42:35.333232Z"
    }
   },
   "outputs": [],
   "source": [
    "from functions import ESG\n",
    "esg_company_data_eligible = ESG.cleaning_esg_data(eligible_complete)\n",
    "esg_company_data_holdings = ESG.cleaning_esg_data(eikon_data_complete)\n",
    "ESG.plot_ESG(esg_company_data_holdings)"
   ]
  },
  {
   "cell_type": "markdown",
   "metadata": {
    "heading_collapsed": true
   },
   "source": [
    "### Spaghetti plot ESG Scores"
   ]
  },
  {
   "cell_type": "markdown",
   "metadata": {},
   "source": [
    "### Some Descriptive Statistics"
   ]
  },
  {
   "cell_type": "code",
   "execution_count": null,
   "metadata": {
    "ExecuteTime": {
     "end_time": "2021-05-13T18:42:36.039568Z",
     "start_time": "2021-05-13T18:42:35.982564Z"
    }
   },
   "outputs": [],
   "source": [
    "esg_company_data_holdings.describe()"
   ]
  },
  {
   "cell_type": "code",
   "execution_count": null,
   "metadata": {
    "ExecuteTime": {
     "end_time": "2021-05-13T18:42:36.102682Z",
     "start_time": "2021-05-13T18:42:36.044569Z"
    }
   },
   "outputs": [],
   "source": [
    "esg_company_data_eligible.describe()"
   ]
  },
  {
   "cell_type": "code",
   "execution_count": null,
   "metadata": {
    "ExecuteTime": {
     "end_time": "2021-05-13T18:42:36.416597Z",
     "start_time": "2021-05-13T18:42:36.107575Z"
    }
   },
   "outputs": [],
   "source": [
    "ESG.plot_ESG_error_bars(esg_company_data_eligible, esg_company_data_holdings)"
   ]
  },
  {
   "cell_type": "markdown",
   "metadata": {},
   "source": [
    "In this figure, we can clearly see that the average ESG-score of the companies increases."
   ]
  },
  {
   "cell_type": "code",
   "execution_count": null,
   "metadata": {
    "ExecuteTime": {
     "end_time": "2021-05-13T18:42:36.808725Z",
     "start_time": "2021-05-13T18:42:36.419597Z"
    }
   },
   "outputs": [],
   "source": [
    "esg_company_data_holdings.iloc[:,1:].boxplot(figsize=(10,10),color='y')\n",
    "esg_company_data_eligible.iloc[:,1:].boxplot(figsize=(10,10),color='r')"
   ]
  },
  {
   "cell_type": "markdown",
   "metadata": {
    "heading_collapsed": true
   },
   "source": [
    "### ESG evolution of each company"
   ]
  },
  {
   "cell_type": "markdown",
   "metadata": {
    "hidden": true
   },
   "source": [
    "fit the evolution of each company"
   ]
  },
  {
   "cell_type": "markdown",
   "metadata": {
    "hidden": true
   },
   "source": [
    "Make a boxplot of the coefficients of these fits. This should give an indication about the general evolution (increase vs decrease)."
   ]
  },
  {
   "cell_type": "code",
   "execution_count": null,
   "metadata": {
    "ExecuteTime": {
     "end_time": "2021-05-13T18:42:37.093152Z",
     "start_time": "2021-05-13T18:42:36.953141Z"
    },
    "hidden": true
   },
   "outputs": [],
   "source": [
    "ESG.coefficients_box_plot(esg_company_data_eligible, esg_company_data_holdings)"
   ]
  },
  {
   "cell_type": "markdown",
   "metadata": {
    "hidden": true
   },
   "source": [
    "This figure shows us that only roughly 25% of companies have a negative slope, while the other 75% have an increasin ESG score.\n",
    "\n",
    "Let us now try to find a relation between the initial ESG score and the most recent one. This can be done by plotting and calculating the covariance matrix."
   ]
  },
  {
   "cell_type": "code",
   "execution_count": null,
   "metadata": {
    "ExecuteTime": {
     "end_time": "2021-05-13T18:42:37.281166Z",
     "start_time": "2021-05-13T18:42:37.096153Z"
    },
    "hidden": true
   },
   "outputs": [],
   "source": [
    "ESG.covariance_matrix_plot(esg_company_data_eligible, esg_company_data_holdings)"
   ]
  },
  {
   "cell_type": "code",
   "execution_count": null,
   "metadata": {
    "ExecuteTime": {
     "end_time": "2021-05-13T18:42:37.297169Z",
     "start_time": "2021-05-13T18:42:37.284377Z"
    },
    "hidden": true,
    "scrolled": true
   },
   "outputs": [],
   "source": [
    "ESG.get_correlation_coefficients(esg_company_data_eligible, esg_company_data_holdings)"
   ]
  },
  {
   "cell_type": "markdown",
   "metadata": {
    "hidden": true
   },
   "source": [
    "There seems to be some negative correlation ==> lower initial value, faster increase in ESG score."
   ]
  },
  {
   "cell_type": "markdown",
   "metadata": {},
   "source": [
    "### ESG Evolution of holdings through the years"
   ]
  },
  {
   "cell_type": "code",
   "execution_count": null,
   "metadata": {},
   "outputs": [],
   "source": [
    "esg_scores_per_year = ESG.get_ESG_scores_per_year(years_issuer_bought, esg_company_data_holdings) # TODO: remove line if not used in notebook"
   ]
  },
  {
   "cell_type": "code",
   "execution_count": null,
   "metadata": {},
   "outputs": [],
   "source": [
    "ESG.average_company_esg_score_plot(years_issuer_bought, esg_company_data_holdings)"
   ]
  }
 ],
 "metadata": {
  "hide_input": false,
  "kernelspec": {
   "name": "python388jvsc74a57bd043b73ca357a3610e47d0004f8d7736c06cf374fbe94f819c27b39a962c871939",
   "display_name": "Python 3.8.8 64-bit ('analytics': conda)"
  },
  "language_info": {
   "codemirror_mode": {
    "name": "ipython",
    "version": 3
   },
   "file_extension": ".py",
   "mimetype": "text/x-python",
   "name": "python",
   "nbconvert_exporter": "python",
   "pygments_lexer": "ipython3",
   "version": "3.8.8"
  },
  "metadata": {
   "interpreter": {
    "hash": "43b73ca357a3610e47d0004f8d7736c06cf374fbe94f819c27b39a962c871939"
   }
  },
  "toc": {
   "base_numbering": 1,
   "nav_menu": {},
   "number_sections": true,
   "sideBar": true,
   "skip_h1_title": false,
   "title_cell": "Table of Contents",
   "title_sidebar": "Contents",
   "toc_cell": false,
   "toc_position": {},
   "toc_section_display": true,
   "toc_window_display": false
  },
  "varInspector": {
   "cols": {
    "lenName": 16,
    "lenType": 16,
    "lenVar": 40
   },
   "kernels_config": {
    "python": {
     "delete_cmd_postfix": "",
     "delete_cmd_prefix": "del ",
     "library": "var_list.py",
     "varRefreshCmd": "print(var_dic_list())"
    },
    "r": {
     "delete_cmd_postfix": ") ",
     "delete_cmd_prefix": "rm(",
     "library": "var_list.r",
     "varRefreshCmd": "cat(var_dic_list()) "
    }
   },
   "oldHeight": 277.4,
   "position": {
    "height": "299.4px",
    "left": "971.4px",
    "right": "20px",
    "top": "98px",
    "width": "493px"
   },
   "types_to_exclude": [
    "module",
    "function",
    "builtin_function_or_method",
    "instance",
    "_Feature"
   ],
   "varInspector_section_display": "block",
   "window_display": false
  }
 },
 "nbformat": 4,
 "nbformat_minor": 4
}