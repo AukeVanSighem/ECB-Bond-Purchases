{
 "cells": [
  {
   "cell_type": "code",
   "execution_count": 2,
   "metadata": {},
   "outputs": [],
   "source": [
    "import pandas as pd"
   ]
  },
  {
   "cell_type": "markdown",
   "metadata": {},
   "source": [
    "# Which bonds are green?"
   ]
  },
  {
   "cell_type": "code",
   "execution_count": 10,
   "metadata": {},
   "outputs": [
    {
     "data": {
      "text/html": [
       "<div>\n",
       "<style scoped>\n",
       "    .dataframe tbody tr th:only-of-type {\n",
       "        vertical-align: middle;\n",
       "    }\n",
       "\n",
       "    .dataframe tbody tr th {\n",
       "        vertical-align: top;\n",
       "    }\n",
       "\n",
       "    .dataframe thead th {\n",
       "        text-align: right;\n",
       "    }\n",
       "</style>\n",
       "<table border=\"1\" class=\"dataframe\">\n",
       "  <thead>\n",
       "    <tr style=\"text-align: right;\">\n",
       "      <th></th>\n",
       "      <th>NCB</th>\n",
       "      <th>ISIN</th>\n",
       "      <th>ISSUER</th>\n",
       "      <th>MATURITY DATE</th>\n",
       "      <th>COUPON RATE</th>\n",
       "    </tr>\n",
       "  </thead>\n",
       "  <tbody>\n",
       "    <tr>\n",
       "      <td>0</td>\n",
       "      <td>BE</td>\n",
       "      <td>BE0002239086</td>\n",
       "      <td>Elia Transmission Belgium</td>\n",
       "      <td>27/05/2024</td>\n",
       "      <td>1.375</td>\n",
       "    </tr>\n",
       "    <tr>\n",
       "      <td>1</td>\n",
       "      <td>BE</td>\n",
       "      <td>BE0002256254</td>\n",
       "      <td>Enodia SCRL</td>\n",
       "      <td>22/07/2026</td>\n",
       "      <td>1</td>\n",
       "    </tr>\n",
       "    <tr>\n",
       "      <td>2</td>\n",
       "      <td>BE</td>\n",
       "      <td>BE0002276450</td>\n",
       "      <td>Elia Transmission Belgium</td>\n",
       "      <td>07/04/2027</td>\n",
       "      <td>1.375</td>\n",
       "    </tr>\n",
       "    <tr>\n",
       "      <td>3</td>\n",
       "      <td>BE</td>\n",
       "      <td>BE0002280494</td>\n",
       "      <td>Groupe Bruxelles Lambert SA</td>\n",
       "      <td>23/05/2024</td>\n",
       "      <td>1.375</td>\n",
       "    </tr>\n",
       "    <tr>\n",
       "      <td>4</td>\n",
       "      <td>BE</td>\n",
       "      <td>BE0002285543</td>\n",
       "      <td>Fluvius System Operator CVBA</td>\n",
       "      <td>23/06/2025</td>\n",
       "      <td>2</td>\n",
       "    </tr>\n",
       "    <tr>\n",
       "      <td>...</td>\n",
       "      <td>...</td>\n",
       "      <td>...</td>\n",
       "      <td>...</td>\n",
       "      <td>...</td>\n",
       "      <td>...</td>\n",
       "    </tr>\n",
       "    <tr>\n",
       "      <td>1637</td>\n",
       "      <td>IT</td>\n",
       "      <td>XS2292487076</td>\n",
       "      <td>ACEA S.p.A.</td>\n",
       "      <td>28/07/2030</td>\n",
       "      <td>0.25</td>\n",
       "    </tr>\n",
       "    <tr>\n",
       "      <td>1638</td>\n",
       "      <td>IT</td>\n",
       "      <td>XS2292547317</td>\n",
       "      <td>2i Rete Gas S.p.A.</td>\n",
       "      <td>29/01/2031</td>\n",
       "      <td>0.579</td>\n",
       "    </tr>\n",
       "    <tr>\n",
       "      <td>1639</td>\n",
       "      <td>IT</td>\n",
       "      <td>XS2299001888</td>\n",
       "      <td>Italgas S.P.A.</td>\n",
       "      <td>16/02/2028</td>\n",
       "      <td>0</td>\n",
       "    </tr>\n",
       "    <tr>\n",
       "      <td>1640</td>\n",
       "      <td>IT</td>\n",
       "      <td>XS2299002423</td>\n",
       "      <td>Italgas S.P.A.</td>\n",
       "      <td>16/02/2033</td>\n",
       "      <td>0.5</td>\n",
       "    </tr>\n",
       "    <tr>\n",
       "      <td>1641</td>\n",
       "      <td>IT</td>\n",
       "      <td>XS2300208928</td>\n",
       "      <td>Snam S.p.A.</td>\n",
       "      <td>15/08/2025</td>\n",
       "      <td>0</td>\n",
       "    </tr>\n",
       "  </tbody>\n",
       "</table>\n",
       "<p>1642 rows × 5 columns</p>\n",
       "</div>"
      ],
      "text/plain": [
       "     NCB          ISIN                        ISSUER MATURITY DATE COUPON RATE\n",
       "0     BE  BE0002239086     Elia Transmission Belgium    27/05/2024       1.375\n",
       "1     BE  BE0002256254                   Enodia SCRL    22/07/2026           1\n",
       "2     BE  BE0002276450     Elia Transmission Belgium    07/04/2027       1.375\n",
       "3     BE  BE0002280494   Groupe Bruxelles Lambert SA    23/05/2024       1.375\n",
       "4     BE  BE0002285543  Fluvius System Operator CVBA    23/06/2025           2\n",
       "...   ..           ...                           ...           ...         ...\n",
       "1637  IT  XS2292487076                   ACEA S.p.A.    28/07/2030        0.25\n",
       "1638  IT  XS2292547317            2i Rete Gas S.p.A.    29/01/2031       0.579\n",
       "1639  IT  XS2299001888                Italgas S.P.A.    16/02/2028           0\n",
       "1640  IT  XS2299002423                Italgas S.P.A.    16/02/2033         0.5\n",
       "1641  IT  XS2300208928                   Snam S.p.A.    15/08/2025           0\n",
       "\n",
       "[1642 rows x 5 columns]"
      ]
     },
     "execution_count": 10,
     "metadata": {},
     "output_type": "execute_result"
    }
   ],
   "source": [
    "# reading data of which bonds are held by ECB at 2nd of april 2021\n",
    "holdings20210402 = pd.read_csv(\"data/CSPP_PEPP_corporate_bond_holdings_20210402.csv\", header=0, encoding='latin-1')\n",
    "holdings20210402"
   ]
  },
  {
   "cell_type": "code",
   "execution_count": null,
   "metadata": {},
   "outputs": [],
   "source": []
  }
 ],
 "metadata": {
  "kernelspec": {
   "display_name": "Python 3",
   "language": "python",
   "name": "python3"
  },
  "language_info": {
   "codemirror_mode": {
    "name": "ipython",
    "version": 3
   },
   "file_extension": ".py",
   "mimetype": "text/x-python",
   "name": "python",
   "nbconvert_exporter": "python",
   "pygments_lexer": "ipython3",
   "version": "3.7.4"
  },
  "varInspector": {
   "cols": {
    "lenName": 16,
    "lenType": 16,
    "lenVar": 40
   },
   "kernels_config": {
    "python": {
     "delete_cmd_postfix": "",
     "delete_cmd_prefix": "del ",
     "library": "var_list.py",
     "varRefreshCmd": "print(var_dic_list())"
    },
    "r": {
     "delete_cmd_postfix": ") ",
     "delete_cmd_prefix": "rm(",
     "library": "var_list.r",
     "varRefreshCmd": "cat(var_dic_list()) "
    }
   },
   "types_to_exclude": [
    "module",
    "function",
    "builtin_function_or_method",
    "instance",
    "_Feature"
   ],
   "window_display": false
  }
 },
 "nbformat": 4,
 "nbformat_minor": 4
}
