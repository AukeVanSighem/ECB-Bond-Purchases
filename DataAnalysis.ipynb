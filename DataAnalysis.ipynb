{
 "cells": [
  {
   "cell_type": "code",
   "execution_count": null,
   "metadata": {
    "ExecuteTime": {
     "end_time": "2021-05-24T16:59:01.988294Z",
     "start_time": "2021-05-24T16:58:47.099471Z"
    },
    "scrolled": true
   },
   "outputs": [],
   "source": [
    "# List of modules that are not installed in the course\n",
    "!pip install OpenPermID\n",
    "!pip install geocoder\n",
    "!pip install matplotlib\n",
    "!pip install xlrd==1.2.0\n",
    "!pip install xlsxwriter\n",
    "!pip install sklearn\n",
    "!pip install ipywidgets"
   ]
  },
  {
   "cell_type": "code",
   "execution_count": null,
   "metadata": {
    "ExecuteTime": {
     "end_time": "2021-05-24T17:09:14.872036Z",
     "start_time": "2021-05-24T17:09:14.227133Z"
    }
   },
   "outputs": [],
   "source": [
    "import pandas as pd\n",
    "import numpy as np\n",
    "import matplotlib.pyplot as plt\n",
    "import re"
   ]
  },
  {
   "cell_type": "markdown",
   "metadata": {},
   "source": [
    "# Downloading all bonds ever owned in CSPP"
   ]
  },
  {
   "cell_type": "code",
   "execution_count": null,
   "metadata": {
    "ExecuteTime": {
     "end_time": "2021-05-24T17:09:15.029048Z",
     "start_time": "2021-05-24T17:09:14.875034Z"
    }
   },
   "outputs": [],
   "source": [
    "from functions import downloadECBBonds"
   ]
  },
  {
   "cell_type": "code",
   "execution_count": null,
   "metadata": {
    "ExecuteTime": {
     "end_time": "2021-05-24T17:09:15.061054Z",
     "start_time": "2021-05-24T17:09:15.033049Z"
    }
   },
   "outputs": [],
   "source": [
    "holdingsECB = downloadECBBonds.download_ECB_Bonds()"
   ]
  },
  {
   "cell_type": "markdown",
   "metadata": {
    "hide_input": false
   },
   "source": [
    "# Read all the Eikon data"
   ]
  },
  {
   "cell_type": "code",
   "execution_count": null,
   "metadata": {
    "ExecuteTime": {
     "end_time": "2021-05-24T17:09:15.685111Z",
     "start_time": "2021-05-24T17:09:15.624097Z"
    }
   },
   "outputs": [],
   "source": [
    "from functions import readEikonData\n",
    "eikon_data_complete = readEikonData.get_eikon_data_complete()\n",
    "eligible_complete = readEikonData.get_data_eligible_complete() # read all data from eligible universe"
   ]
  },
  {
   "cell_type": "markdown",
   "metadata": {},
   "source": [
    "Compare how many bonds from the eligible universe the ECB bought."
   ]
  },
  {
   "cell_type": "code",
   "execution_count": null,
   "metadata": {
    "ExecuteTime": {
     "end_time": "2021-05-24T17:09:15.701111Z",
     "start_time": "2021-05-24T17:09:15.688110Z"
    },
    "scrolled": true
   },
   "outputs": [],
   "source": [
    "overlap = eikon_data_complete[(eikon_data_complete[\"ISIN\"].isin(eligible_complete[\"ISIN\"]))]\n",
    "print(\"the percentage of bonds bought by ECB in eligible universe that we have info on:    \", \n",
    "      overlap.shape[0]/eligible_complete.shape[0])"
   ]
  },
  {
   "cell_type": "markdown",
   "metadata": {},
   "source": [
    "Read the dates"
   ]
  },
  {
   "cell_type": "code",
   "execution_count": null,
   "metadata": {
    "ExecuteTime": {
     "end_time": "2021-05-24T17:09:15.877129Z",
     "start_time": "2021-05-24T17:09:15.704112Z"
    }
   },
   "outputs": [],
   "source": [
    "years_issuer_bought = readEikonData.get_dates_data_frame()"
   ]
  },
  {
   "cell_type": "markdown",
   "metadata": {
    "heading_collapsed": true
   },
   "source": [
    "# ECB green bonds that are listed on Euronext stock exchange "
   ]
  },
  {
   "source": [
    "Comparing euronext completeness of data to EIKON data. "
   ],
   "cell_type": "markdown",
   "metadata": {}
  },
  {
   "cell_type": "code",
   "execution_count": null,
   "metadata": {
    "ExecuteTime": {
     "end_time": "2021-05-24T17:09:15.621098Z",
     "start_time": "2021-05-24T17:09:15.064052Z"
    },
    "hidden": true
   },
   "outputs": [],
   "source": [
    "from functions import greenbonds\n",
    "greenbonds.compareGreenbondsEuronextvsEIKON()"
   ]
  },
  {
   "source": [
    "EIKON data is more complete than euronext"
   ],
   "cell_type": "markdown",
   "metadata": {}
  },
  {
   "source": [
    "Plot of percentage of greenbonds in comparison to all bonds per year"
   ],
   "cell_type": "markdown",
   "metadata": {}
  },
  {
   "cell_type": "code",
   "execution_count": null,
   "metadata": {},
   "outputs": [],
   "source": [
    "greenbonds.draw_spaghetti_plot_greenbonds()"
   ]
  },
  {
   "cell_type": "markdown",
   "metadata": {},
   "source": [
    "# Company Analysis based on ESG scores"
   ]
  },
  {
   "cell_type": "markdown",
   "metadata": {},
   "source": [
    "Function for cleaning the ESG data"
   ]
  },
  {
   "cell_type": "code",
   "execution_count": null,
   "metadata": {
    "ExecuteTime": {
     "end_time": "2021-05-24T17:09:21.606516Z",
     "start_time": "2021-05-24T17:09:20.267396Z"
    }
   },
   "outputs": [],
   "source": [
    "from functions import ESG\n",
    "print(\"for eligible universe:\")\n",
    "esg_company_data_eligible = ESG.cleaning_esg_data(eligible_complete)\n",
    "print(\"for holdings in the CSPP:\")\n",
    "esg_company_data_holdings = ESG.cleaning_esg_data(eikon_data_complete)"
   ]
  },
  {
   "cell_type": "markdown",
   "metadata": {},
   "source": [
    "## ESG Evolution of holdings through the years"
   ]
  },
  {
   "cell_type": "code",
   "execution_count": null,
   "metadata": {
    "ExecuteTime": {
     "end_time": "2021-05-24T17:09:23.119581Z",
     "start_time": "2021-05-24T17:09:22.930571Z"
    }
   },
   "outputs": [],
   "source": [
    "ESG.average_company_esg_score_plot(years_issuer_bought, esg_company_data_holdings,esg_company_data_eligible)"
   ]
  },
  {
   "cell_type": "markdown",
   "metadata": {
    "heading_collapsed": true
   },
   "source": [
    "# Sector Analysis"
   ]
  },
  {
   "cell_type": "markdown",
   "metadata": {
    "heading_collapsed": true,
    "hidden": true
   },
   "source": [
    "## Get all sector data from PermID"
   ]
  },
  {
   "cell_type": "code",
   "execution_count": null,
   "metadata": {
    "ExecuteTime": {
     "end_time": "2021-05-24T17:09:16.084144Z",
     "start_time": "2021-05-24T17:09:15.879127Z"
    }
   },
   "outputs": [],
   "source": [
    "from functions import permidSectors\n",
    "sector_mappings = permidSectors.get_sector_mappings(holdingsECB)\n",
    "sector_mappings.dropna(inplace = True)"
   ]
  },
  {
   "cell_type": "markdown",
   "metadata": {
    "heading_collapsed": true,
    "hidden": true
   },
   "source": [
    "## Represent industries and sectors"
   ]
  },
  {
   "cell_type": "markdown",
   "metadata": {
    "hidden": true
   },
   "source": [
    "Create a pie chart to represent the number of times an industry, sector or supersector is present in the data (multiple bonds for the same company are counted separately)"
   ]
  },
  {
   "cell_type": "code",
   "execution_count": null,
   "metadata": {
    "ExecuteTime": {
     "end_time": "2021-05-24T17:09:16.100145Z",
     "start_time": "2021-05-24T17:09:16.088145Z"
    }
   },
   "outputs": [],
   "source": [
    "from functions import pieCharts"
   ]
  },
  {
   "cell_type": "code",
   "execution_count": null,
   "metadata": {
    "ExecuteTime": {
     "end_time": "2021-05-24T17:09:16.643694Z",
     "start_time": "2021-05-24T17:09:16.103144Z"
    },
    "hidden": true
   },
   "outputs": [],
   "source": [
    "pieCharts.make_pie_chart('hasPrimaryBusinessSector', sector_mappings)"
   ]
  },
  {
   "cell_type": "code",
   "execution_count": null,
   "metadata": {
    "ExecuteTime": {
     "end_time": "2021-05-24T17:09:16.882709Z",
     "start_time": "2021-05-24T17:09:16.646697Z"
    },
    "hidden": true
   },
   "outputs": [],
   "source": [
    "pieCharts.make_pie_chart('hasPrimaryEconomicSector', sector_mappings)"
   ]
  },
  {
   "cell_type": "code",
   "execution_count": null,
   "metadata": {
    "ExecuteTime": {
     "end_time": "2021-05-24T17:09:18.095698Z",
     "start_time": "2021-05-24T17:09:16.885711Z"
    },
    "hidden": true
   },
   "outputs": [],
   "source": [
    "pieCharts.make_pie_chart('hasPrimaryIndustryGroup', sector_mappings)"
   ]
  },
  {
   "cell_type": "markdown",
   "metadata": {
    "heading_collapsed": true,
    "hidden": true
   },
   "source": [
    "## Which industries and sectors are green?"
   ]
  },
  {
   "cell_type": "markdown",
   "metadata": {
    "hidden": true
   },
   "source": [
    "Map the dictionary with greenness of all PermID sectors with the ones in which ECB invested\n",
    "\n"
   ]
  },
  {
   "cell_type": "code",
   "execution_count": null,
   "metadata": {
    "ExecuteTime": {
     "end_time": "2021-05-24T17:09:18.126703Z",
     "start_time": "2021-05-24T17:09:18.098704Z"
    }
   },
   "outputs": [],
   "source": [
    "from functions import sectors\n",
    "sector_green_dict = sectors.get_sector_green_dict()"
   ]
  },
  {
   "cell_type": "code",
   "execution_count": null,
   "metadata": {
    "ExecuteTime": {
     "end_time": "2021-05-24T17:09:18.158705Z",
     "start_time": "2021-05-24T17:09:18.129701Z"
    },
    "hidden": true
   },
   "outputs": [],
   "source": [
    "primary_business_sector = pieCharts.get_all_sectors(\"hasPrimaryBusinessSector\", sector_mappings)\n",
    "primary_business_sector = sectors.map_green_dict_to_data_frame(primary_business_sector)"
   ]
  },
  {
   "cell_type": "markdown",
   "metadata": {},
   "source": [
    "- Total Count for each sector overall and compare these sectors (we view as “bad”, like cement, oil&gas or with kaggle dataset(emission))\n",
    "- Similar approach but per year → do we see a change in habit, total counts → differences in the sectors \n",
    "- For the sectors: make spaghetti plot with for each sector the percentage invested in every year (in app: select which sectors you want)\n",
    "    - Include in app (can view all, and have “buttons” to choose what to show) \n",
    "    - Make percentages instead of absolute counts\n",
    "    - Remove before 2017"
   ]
  },
  {
   "cell_type": "code",
   "execution_count": null,
   "metadata": {
    "ExecuteTime": {
     "end_time": "2021-05-24T17:09:18.174702Z",
     "start_time": "2021-05-24T17:09:18.162704Z"
    },
    "tags": []
   },
   "outputs": [],
   "source": [
    "sector_mappings[\"Greenness\"] = sector_mappings[\"hasPrimaryBusinessSector\"].dropna().apply(lambda x: sector_green_dict[x])"
   ]
  },
  {
   "cell_type": "code",
   "execution_count": null,
   "metadata": {
    "ExecuteTime": {
     "end_time": "2021-05-24T17:09:19.035767Z",
     "start_time": "2021-05-24T17:09:18.178704Z"
    }
   },
   "outputs": [],
   "source": [
    "# Draw a spaghetti plot for all the sectors\n",
    "sectors.draw_spaghetti_plot_sectors(primary_business_sector, sector_mappings, years_issuer_bought)"
   ]
  },
  {
   "cell_type": "code",
   "execution_count": null,
   "metadata": {
    "ExecuteTime": {
     "end_time": "2021-05-24T17:09:19.530823Z",
     "start_time": "2021-05-24T17:09:19.037770Z"
    }
   },
   "outputs": [],
   "source": [
    "# Draw a spaghetti plot for the grey sectors\n",
    "grey_sectors = primary_business_sector[primary_business_sector[\"green\"]==-1].index\n",
    "sectors.draw_spaghetti_plot_sectors(primary_business_sector, sector_mappings, years_issuer_bought, grey_sectors)"
   ]
  },
  {
   "cell_type": "code",
   "execution_count": null,
   "metadata": {
    "ExecuteTime": {
     "end_time": "2021-05-24T17:09:19.913851Z",
     "start_time": "2021-05-24T17:09:19.532825Z"
    }
   },
   "outputs": [],
   "source": [
    "# Draw a spaghetti plot for the green sectors\n",
    "green_sectors = primary_business_sector[primary_business_sector[\"green\"]==1].index\n",
    "sectors.draw_spaghetti_plot_sectors(primary_business_sector, sector_mappings, years_issuer_bought, green_sectors)"
   ]
  },
  {
   "cell_type": "code",
   "execution_count": null,
   "metadata": {
    "ExecuteTime": {
     "end_time": "2021-05-24T17:09:20.264400Z",
     "start_time": "2021-05-24T17:09:19.915852Z"
    }
   },
   "outputs": [],
   "source": [
    "# Drawing a sphagetti plot by grouping sectors according to greenness\n",
    "green_dict = {-1: \"Less green\", 0: \"Neutral\", 1: \"More green\"}\n",
    "sector_mappings_modified = sector_mappings.copy()\n",
    "sector_mappings_modified[\"hasPrimaryBusinessSector\"] = sector_mappings_modified.Greenness.apply(lambda x: green_dict[x])\n",
    "levels_of_greenness = pieCharts.get_all_sectors(\"hasPrimaryBusinessSector\", sector_mappings_modified)\n",
    "levels_of_greenness = sectors.map_green_dict_to_data_frame(levels_of_greenness)\n",
    "sectors.draw_spaghetti_plot_sectors(levels_of_greenness, sector_mappings_modified, years_issuer_bought, title = \"greenness groups\")"
   ]
  },
  {
   "cell_type": "code",
   "execution_count": null,
   "metadata": {},
   "outputs": [],
   "source": [
    "from IPython.display import (display, clear_output)\n",
    "import ipywidgets as widgets\n",
    "\n",
    "quick_pick = widgets.RadioButtons(\n",
    "    options=[\"All\", \"Green\", \"Grey\"],\n",
    "    description=\"Sectors: \"\n",
    ")\n",
    "\n",
    "customize = widgets.SelectMultiple(\n",
    "    options= list(sectors.get_sector_green_dict().keys()),\n",
    "    value=[\"Energy - Fossil Fuels\"],\n",
    "    rows=33,\n",
    "    description=\"Sectors: \",\n",
    "    layout={'width': 'max-content'},\n",
    "    disabled=False\n",
    ")\n",
    "button_all = widgets.Button(description = 'Select all')\n",
    "\n",
    "def select_all(*args):\n",
    "    customize.value = customize.options\n",
    "    quick_pick.value = \"All\"\n",
    "\n",
    "tab_widget = widgets.Tab()\n",
    "tab_widget.children = [quick_pick, customize]\n",
    "tab_widget.set_title(0, \"Quick pick\")\n",
    "tab_widget.set_title(1, \"Customize\")\n",
    "\n",
    "output = widgets.Output()\n",
    "\n",
    "display(tab_widget, button_all, output)\n",
    "\n",
    "def getSectorNames(category):\n",
    "    switcher={\n",
    "            \"Green\": green_sectors,\n",
    "            \"Grey\": grey_sectors\n",
    "            }\n",
    "    return switcher.get(category, pd.DataFrame())\n",
    "\n",
    "def on_value_change(change):\n",
    "    with output:\n",
    "        # Draw a spaghetti plot for all the sectors\n",
    "        clear_output()\n",
    "        sectors.draw_spaghetti_plot_sectors(primary_business_sector, sector_mappings, years_issuer_bought, getSectorNames(change[\"new\"]))\n",
    "\n",
    "button_all.on_click(select_all)\n",
    "quick_pick.observe(on_value_change, names = \"value\")"
   ]
  },
  {
   "cell_type": "code",
   "execution_count": null,
   "metadata": {},
   "outputs": [],
   "source": []
  }
 ],
 "metadata": {
  "hide_input": false,
  "kernelspec": {
   "name": "python380jvsc74a57bd01c3b780139fd6fc987c494b2266372037322e5fb4a18061fdaca07da76c04ed3",
   "display_name": "Python 3.8.0 32-bit"
  },
  "language_info": {
   "codemirror_mode": {
    "name": "ipython",
    "version": 3
   },
   "file_extension": ".py",
   "mimetype": "text/x-python",
   "name": "python",
   "nbconvert_exporter": "python",
   "pygments_lexer": "ipython3",
   "version": "3.8.0"
  },
  "metadata": {
   "interpreter": {
    "hash": "1c3b780139fd6fc987c494b2266372037322e5fb4a18061fdaca07da76c04ed3"
   }
  },
  "toc": {
   "base_numbering": 1,
   "nav_menu": {},
   "number_sections": true,
   "sideBar": true,
   "skip_h1_title": false,
   "title_cell": "Table of Contents",
   "title_sidebar": "Contents",
   "toc_cell": false,
   "toc_position": {},
   "toc_section_display": true,
   "toc_window_display": false
  },
  "varInspector": {
   "cols": {
    "lenName": 16,
    "lenType": 16,
    "lenVar": 40
   },
   "kernels_config": {
    "python": {
     "delete_cmd_postfix": "",
     "delete_cmd_prefix": "del ",
     "library": "var_list.py",
     "varRefreshCmd": "print(var_dic_list())"
    },
    "r": {
     "delete_cmd_postfix": ") ",
     "delete_cmd_prefix": "rm(",
     "library": "var_list.r",
     "varRefreshCmd": "cat(var_dic_list()) "
    }
   },
   "oldHeight": 277.4,
   "position": {
    "height": "299.4px",
    "left": "971.4px",
    "right": "20px",
    "top": "98px",
    "width": "493px"
   },
   "types_to_exclude": [
    "module",
    "function",
    "builtin_function_or_method",
    "instance",
    "_Feature"
   ],
   "varInspector_section_display": "block",
   "window_display": false
  }
 },
 "nbformat": 4,
 "nbformat_minor": 4
}